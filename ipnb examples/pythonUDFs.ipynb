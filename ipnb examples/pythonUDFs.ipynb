{
 "cells": [
  {
   "cell_type": "code",
   "execution_count": 1,
   "metadata": {
    "collapsed": true
   },
   "outputs": [],
   "source": [
    "from myria import *\n",
    "import numpy\n",
    "import json\n",
    "from myria.connection import MyriaConnection\n",
    "from myria.relation import MyriaRelation\n",
    "from myria.udf import MyriaPythonFunction\n",
    "from raco.types import STRING_TYPE, BOOLEAN_TYPE, LONG_TYPE, BLOB_TYPE\n",
    "\n",
    "#create connection\n",
    "connection = MyriaConnection(rest_url='http://localhost:8753',execution_url='http://localhost:8080')"
   ]
  },
  {
   "cell_type": "code",
   "execution_count": 2,
   "metadata": {
    "collapsed": true
   },
   "outputs": [],
   "source": [
    "#register Python functions\n",
    "outType= \"LONG_TYPE\"\n",
    "def pyIsPrime(dt):\n",
    "    import math\n",
    "    n = dt[0][0]\n",
    "    if n % 2 == 0 and n > 2: \n",
    "        return False\n",
    "    for i in range(3, int(math.sqrt(n)) + 1, 2):\n",
    "        if n % i == 0:\n",
    "            return 0\n",
    "    return 1\n",
    "\n",
    "MyriaPythonFunction(pyIsPrime, outType).register()"
   ]
  },
  {
   "cell_type": "code",
   "execution_count": null,
   "metadata": {
    "collapsed": true
   },
   "outputs": [],
   "source": [
    "connection.get_functions()"
   ]
  },
  {
   "cell_type": "code",
   "execution_count": null,
   "metadata": {
    "collapsed": true
   },
   "outputs": [],
   "source": [
    "connection.get_function('pyIsPrime')"
   ]
  },
  {
   "cell_type": "code",
   "execution_count": null,
   "metadata": {
    "collapsed": true
   },
   "outputs": [],
   "source": [
    "q = MyriaQuery.submit(\"\"\" T1 = scan(TwitterK);\n",
    "T2 = [from T1 emit pyIsPrime(T1.src) as isPrime, T1.src, T1.dst];\n",
    "primeCount = [from T2 emit  sum(T2.isPrime) as prime];\n",
    "store( isPrime, TwitterK_isPrime);\"\"\", connection=connection)\n",
    "q.status"
   ]
  },
  {
   "cell_type": "code",
   "execution_count": null,
   "metadata": {
    "collapsed": true
   },
   "outputs": [],
   "source": [
    "# 1: Download as a Python dictionary\n",
    "d = MyriaRelation(\"primeCount\").to_dict()\n",
    "print 'Number of Users with id that is prime: %s' % d[0]['prime']"
   ]
  },
  {
   "cell_type": "code",
   "execution_count": null,
   "metadata": {
    "collapsed": true
   },
   "outputs": [],
   "source": [
    "#Register a python UDA \n",
    "def pyAdd(dt):\n",
    "    tuplist = dt\n",
    "    retval = None\n",
    "    for i in tuplist:\n",
    "        if retval is None:\n",
    "            retval = i[0]\n",
    "        else:\n",
    "            retval = retval+i[0]\n",
    "    return retval\n",
    "\n",
    "MyriaPythonFunction(pyAdd, BLOB_TYPE).register()\n",
    "\n",
    "def pyMean(dt):\n",
    "    _sum= dt[0][0]\n",
    "    _count = dt[0][1]\n",
    "    return _sum/_count\n",
    "\n",
    "MyriaPythonFunction(pyMean, BLOB_TYPE).register()"
   ]
  },
  {
   "cell_type": "code",
   "execution_count": null,
   "metadata": {
    "collapsed": true
   },
   "outputs": [],
   "source": [
    "q = MyriaQuery.submit(\"\"\" \n",
    "uda average_image(img) {\n",
    "   [EMPTY_BLOB as val, 0 as cnt];\n",
    "   [pyAdd(img), cnt + 1];\n",
    "   [pyMean(img,cnt)];\n",
    "};\n",
    "t = scan(public:adhoc:raw);\n",
    "results = [from t emit t.subjid average_image(t.img) as mean_image];\n",
    "STORE(results, results);\n",
    "\"\"\", connection=connection)\n",
    "q.status"
   ]
  }
 ],
 "metadata": {
  "kernelspec": {
   "display_name": "Python 2",
   "language": "python",
   "name": "python2"
  },
  "language_info": {
   "codemirror_mode": {
    "name": "ipython",
    "version": 2
   },
   "file_extension": ".py",
   "mimetype": "text/x-python",
   "name": "python",
   "nbconvert_exporter": "python",
   "pygments_lexer": "ipython2",
   "version": "2.7.6"
  }
 },
 "nbformat": 4,
 "nbformat_minor": 2
}
