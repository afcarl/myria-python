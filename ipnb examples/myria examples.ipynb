{
 "cells": [
  {
   "cell_type": "markdown",
   "metadata": {
    "slideshow": {
     "slide_type": "slide"
    }
   },
   "source": [
    "# Myria Python & IPython & StarCluster"
   ]
  },
  {
   "cell_type": "markdown",
   "metadata": {
    "slideshow": {
     "slide_type": "slide"
    }
   },
   "source": [
    "<img src=\"overview.png\" style=\"height: 300px\"/>"
   ]
  },
  {
   "cell_type": "markdown",
   "metadata": {
    "slideshow": {
     "slide_type": "slide"
    }
   },
   "source": [
    "### To install `Myria-Python`:\n",
    "\n",
    "```\n",
    "git clone https://github.com/uwescience/myria-python\n",
    "cd myria-python\n",
    "sudo python setup.py install\n",
    "```\n",
    "\n",
    "### Or:\n",
    "\n",
    "```\n",
    "pip install myria-python\n",
    "```\n",
    "\n"
   ]
  },
  {
   "cell_type": "markdown",
   "metadata": {
    "slideshow": {
     "slide_type": "slide"
    }
   },
   "source": [
    "## 1. Connecting to Myria"
   ]
  },
  {
   "cell_type": "code",
   "execution_count": 1,
   "metadata": {
    "collapsed": false,
    "slideshow": {
     "slide_type": "fragment"
    }
   },
   "outputs": [],
   "source": [
    "from myria import *\n",
    "import numpy\n",
    "\n",
    "# Create a connection to the Myria *Production* cluster\n",
    "connection = MyriaConnection(\n",
    "    rest_url='https://rest.myria.cs.washington.edu:1776',\n",
    "    execution_url='https://myria-web.appspot.com')"
   ]
  },
  {
   "cell_type": "code",
   "execution_count": 2,
   "metadata": {
    "collapsed": false,
    "slideshow": {
     "slide_type": "fragment"
    }
   },
   "outputs": [],
   "source": [
    "# ... or create a connection to the Myria *demo* cluster\n",
    "connection = MyriaConnection(\n",
    "    rest_url='http://demo.myria.cs.washington.edu:8753')"
   ]
  },
  {
   "cell_type": "markdown",
   "metadata": {
    "slideshow": {
     "slide_type": "slide"
    }
   },
   "source": [
    "## 2. Myria: Connections, Relations, and Queries (and Schemas and Plans)"
   ]
  },
  {
   "cell_type": "code",
   "execution_count": 3,
   "metadata": {
    "collapsed": false,
    "slideshow": {
     "slide_type": "fragment"
    }
   },
   "outputs": [
    {
     "name": "stdout",
     "output_type": "stream",
     "text": [
      "25\n"
     ]
    }
   ],
   "source": [
    "# How many datasets are there on the server?\n",
    "print len(connection.datasets())"
   ]
  },
  {
   "cell_type": "code",
   "execution_count": 4,
   "metadata": {
    "collapsed": false,
    "slideshow": {
     "slide_type": "slide"
    }
   },
   "outputs": [
    {
     "name": "stdout",
     "output_type": "stream",
     "text": [
      "{u'created': u'2015-05-07T22:00:48.057Z', u'numTuples': 3, u'uri': u'http://demo.myria.cs.washington.edu:8753/dataset/user-Brandon/program-Demo/relation-Books', u'queryId': 141, u'relationKey': {u'userName': u'Brandon', u'relationName': u'Books', u'programName': u'Demo'}, u'schema': {u'columnNames': [u'name', u'pages'], u'columnTypes': [u'STRING_TYPE', u'LONG_TYPE']}}\n"
     ]
    }
   ],
   "source": [
    "# Let's look at the first dataset...\n",
    "print connection.datasets()[0]"
   ]
  },
  {
   "cell_type": "markdown",
   "metadata": {
    "slideshow": {
     "slide_type": "slide"
    }
   },
   "source": [
    "### Three parts to a relation name:"
   ]
  },
  {
   "cell_type": "code",
   "execution_count": 4,
   "metadata": {
    "collapsed": false,
    "scrolled": true,
    "slideshow": {
     "slide_type": "fragment"
    }
   },
   "outputs": [
    {
     "data": {
      "text/plain": [
       "{u'programName': u'Demo', u'relationName': u'Books', u'userName': u'Brandon'}"
      ]
     },
     "execution_count": 4,
     "metadata": {},
     "output_type": "execute_result"
    }
   ],
   "source": [
    "# What's the name of the first relation?\n",
    "name = connection.datasets()[0]['relationKey']\n",
    "name"
   ]
  },
  {
   "cell_type": "code",
   "execution_count": null,
   "metadata": {
    "collapsed": false,
    "slideshow": {
     "slide_type": "fragment"
    }
   },
   "outputs": [],
   "source": [
    "# Compact form\n",
    "MyriaRelation(\"Brandon:Demo:Books\", connection=connection)"
   ]
  },
  {
   "cell_type": "code",
   "execution_count": 3,
   "metadata": {
    "collapsed": false,
    "slideshow": {
     "slide_type": "fragment"
    }
   },
   "outputs": [
    {
     "data": {
      "text/html": [
       "<table border=\"1\" class=\"dataframe\">\n",
       "  <thead>\n",
       "    <tr style=\"text-align: right;\">\n",
       "      <th></th>\n",
       "      <th>name</th>\n",
       "      <th>pages</th>\n",
       "    </tr>\n",
       "  </thead>\n",
       "  <tbody>\n",
       "    <tr>\n",
       "      <th>0</th>\n",
       "      <td>Brave New World</td>\n",
       "      <td>288</td>\n",
       "    </tr>\n",
       "    <tr>\n",
       "      <th>1</th>\n",
       "      <td>We</td>\n",
       "      <td>256</td>\n",
       "    </tr>\n",
       "    <tr>\n",
       "      <th>2</th>\n",
       "      <td>Nineteen Eighty-Four</td>\n",
       "      <td>376</td>\n",
       "    </tr>\n",
       "  </tbody>\n",
       "</table>"
      ],
      "text/plain": [
       "<myria.relation.MyriaRelation at 0x7fac7adbe990>"
      ]
     },
     "execution_count": 3,
     "metadata": {},
     "output_type": "execute_result"
    }
   ],
   "source": [
    "# Expanded form (used with many lower-level Myria utilities)\n",
    "MyriaRelation({'userName':     'Brandon', \n",
    "               'programName':  'Demo',\n",
    "               'relationName': 'Books'}, \n",
    "              connection=connection)"
   ]
  },
  {
   "cell_type": "markdown",
   "metadata": {
    "slideshow": {
     "slide_type": "slide"
    }
   },
   "source": [
    "### Uploading data"
   ]
  },
  {
   "cell_type": "code",
   "execution_count": null,
   "metadata": {
    "collapsed": false,
    "slideshow": {
     "slide_type": "fragment"
    }
   },
   "outputs": [],
   "source": [
    "# Uploading from a Python string\n",
    "name = {'userName': 'Brandon', 'programName': 'Demo', 'relationName': 'Books'}\n",
    "schema = { \"columnNames\" : [\"name\", \"pages\"],\n",
    "           \"columnTypes\" : [\"STRING_TYPE\",\"LONG_TYPE\"] }\n",
    "\n",
    "data = \"\"\"Brave New World,288\n",
    "Nineteen Eighty-Four,376\n",
    "We,256\"\"\"\n",
    "\n",
    "result = connection.upload_file(\n",
    "    name, schema, data, delimiter=',', overwrite=True)\n",
    "\n",
    "MyriaRelation(result['relationKey'], connection=connection)"
   ]
  },
  {
   "cell_type": "code",
   "execution_count": null,
   "metadata": {
    "collapsed": false,
    "slideshow": {
     "slide_type": "fragment"
    }
   },
   "outputs": [],
   "source": [
    "# Want to upload a local file?  No problem...\n",
    "another_name = {'userName': 'Brandon', \n",
    "                'programName': 'Demo', \n",
    "                'relationName': 'MoreBooks3'} # Name must be unique!\n",
    "\n",
    "with open('books.csv') as f:\n",
    "    connection.upload_fp(another_name, schema, f)\n",
    "    \n",
    "MyriaRelation(another_name, connection=connection)"
   ]
  },
  {
   "cell_type": "code",
   "execution_count": null,
   "metadata": {
    "collapsed": false
   },
   "outputs": [],
   "source": [
    "#Or, load using the myria_upload command-line utility\n",
    "!myria_upload --hostname demo.myria.cs.washington.edu --port 8753 --no-ssl --user Brandon --program Demo --relation Demo --overwrite books.csv"
   ]
  },
  {
   "cell_type": "code",
   "execution_count": null,
   "metadata": {
    "collapsed": false,
    "slideshow": {
     "slide_type": "fragment"
    }
   },
   "outputs": [],
   "source": [
    "# Myria also supports uploading large datasets in parallel, by mapping one URL to one worker as follows:\n",
    "\n",
    "demo_connection = MyriaConnection(\n",
    "    rest_url='http://demo.myria.cs.washington.edu:8753')\n",
    "schema = MyriaSchema(\n",
    "    {\"columnNames\": ['Title','Url','BeginVolume','BeginYear',\n",
    "                     'EndVolume','EndYear','Subject','Publisher'],\n",
    "     \"columnTypes\": [\"STRING_TYPE\"] * 8 })\n",
    "destination = MyriaRelation(\"Brandon:Demo:SomeJournals\", \n",
    "                            schema=schema,\n",
    "                            connection=demo_connection)\n",
    "\n",
    "\n",
    "# CAVEAT: currently must have *exactly one URL per database worker*.  \n",
    "#         This will change soon!\n",
    "query = MyriaQuery.parallel_import(\n",
    "            destination,\n",
    "            [(1, 'http://nlist.inflibnet.ac.in/ejournals/American%20Institute%20of%20Physics.csv'),\n",
    "             (2, 'http://nlist.inflibnet.ac.in/ejournals/American%20Physical%20Society.csv'),\n",
    "             (3, 'http://nlist.inflibnet.ac.in/ejournals/Cambridge%20University%20Press.csv'),\n",
    "             (4, 'http://nlist.inflibnet.ac.in/ejournals/Royal%20Society%20of%20Chemistry.csv')],\n",
    "            )\n",
    "\n",
    "query.to_dataframe()"
   ]
  },
  {
   "cell_type": "markdown",
   "metadata": {
    "slideshow": {
     "slide_type": "slide"
    }
   },
   "source": [
    "### Working with relations"
   ]
  },
  {
   "cell_type": "code",
   "execution_count": 4,
   "metadata": {
    "collapsed": false,
    "slideshow": {
     "slide_type": "fragment"
    }
   },
   "outputs": [
    {
     "data": {
      "text/html": [
       "<table border=\"1\" class=\"dataframe\">\n",
       "  <thead>\n",
       "    <tr style=\"text-align: right;\">\n",
       "      <th></th>\n",
       "      <th>name</th>\n",
       "      <th>pages</th>\n",
       "    </tr>\n",
       "  </thead>\n",
       "  <tbody>\n",
       "    <tr>\n",
       "      <th>0</th>\n",
       "      <td>Nineteen Eighty-Four</td>\n",
       "      <td>376</td>\n",
       "    </tr>\n",
       "    <tr>\n",
       "      <th>1</th>\n",
       "      <td>Brave New World</td>\n",
       "      <td>288</td>\n",
       "    </tr>\n",
       "    <tr>\n",
       "      <th>2</th>\n",
       "      <td>We</td>\n",
       "      <td>256</td>\n",
       "    </tr>\n",
       "  </tbody>\n",
       "</table>"
      ],
      "text/plain": [
       "<myria.relation.MyriaRelation at 0x7fac98273b10>"
      ]
     },
     "execution_count": 4,
     "metadata": {},
     "output_type": "execute_result"
    }
   ],
   "source": [
    "# Using MyriaConnection to retrieve data:\n",
    "MyriaRelation(\"Brandon:Demo:Books\", connection=connection)"
   ]
  },
  {
   "cell_type": "code",
   "execution_count": 5,
   "metadata": {
    "collapsed": false,
    "slideshow": {
     "slide_type": "fragment"
    }
   },
   "outputs": [
    {
     "name": "stdout",
     "output_type": "stream",
     "text": [
      "3\n",
      "2015-05-07 22:00:48.057000+00:00\n",
      "[u'name', u'pages']\n"
     ]
    }
   ],
   "source": [
    "relation = MyriaRelation(\"Brandon:Demo:Books\", connection=connection)\n",
    "print len(relation)\n",
    "print relation.created_date\n",
    "print relation.schema.names"
   ]
  },
  {
   "cell_type": "markdown",
   "metadata": {
    "slideshow": {
     "slide_type": "slide"
    }
   },
   "source": [
    "### Setting a default connection"
   ]
  },
  {
   "cell_type": "code",
   "execution_count": null,
   "metadata": {
    "collapsed": false,
    "slideshow": {
     "slide_type": "-"
    }
   },
   "outputs": [],
   "source": [
    "# Who wants to have to type \"connection=connection\" all the time?!\n",
    "MyriaRelation(\"Brandon:Demo:MoreBooks\", connection=connection)"
   ]
  },
  {
   "cell_type": "markdown",
   "metadata": {
    "slideshow": {
     "slide_type": "fragment"
    }
   },
   "source": [
    "Instead, just set the default connection for the session:"
   ]
  },
  {
   "cell_type": "code",
   "execution_count": 6,
   "metadata": {
    "collapsed": false,
    "slideshow": {
     "slide_type": "-"
    }
   },
   "outputs": [
    {
     "data": {
      "text/html": [
       "<table border=\"1\" class=\"dataframe\">\n",
       "  <thead>\n",
       "    <tr style=\"text-align: right;\">\n",
       "      <th></th>\n",
       "      <th>name</th>\n",
       "      <th>pages</th>\n",
       "    </tr>\n",
       "  </thead>\n",
       "  <tbody>\n",
       "    <tr>\n",
       "      <th>0</th>\n",
       "      <td>We</td>\n",
       "      <td>256</td>\n",
       "    </tr>\n",
       "    <tr>\n",
       "      <th>1</th>\n",
       "      <td>The Iron Heel</td>\n",
       "      <td>354</td>\n",
       "    </tr>\n",
       "    <tr>\n",
       "      <th>2</th>\n",
       "      <td>Nineteen Eighty-Four</td>\n",
       "      <td>376</td>\n",
       "    </tr>\n",
       "    <tr>\n",
       "      <th>3</th>\n",
       "      <td>Brave New World</td>\n",
       "      <td>288</td>\n",
       "    </tr>\n",
       "  </tbody>\n",
       "</table>"
      ],
      "text/plain": [
       "<myria.relation.MyriaRelation at 0x7fac7adbebd0>"
      ]
     },
     "execution_count": 6,
     "metadata": {},
     "output_type": "execute_result"
    }
   ],
   "source": [
    "# Set the default connection for the session\n",
    "MyriaRelation.DefaultConnection = connection\n",
    "\n",
    "# Now, anything we do will use that connection, and we don't have to specify it\n",
    "MyriaRelation(\"Brandon:Demo:MoreBooks\")"
   ]
  },
  {
   "cell_type": "markdown",
   "metadata": {
    "slideshow": {
     "slide_type": "slide"
    }
   },
   "source": [
    "### Working Locally with Relations"
   ]
  },
  {
   "cell_type": "code",
   "execution_count": 7,
   "metadata": {
    "collapsed": false,
    "slideshow": {
     "slide_type": "fragment"
    }
   },
   "outputs": [
    {
     "data": {
      "text/html": [
       "<table border=\"1\" class=\"dataframe\">\n",
       "  <thead>\n",
       "    <tr style=\"text-align: right;\">\n",
       "      <th></th>\n",
       "      <th>name</th>\n",
       "      <th>pages</th>\n",
       "    </tr>\n",
       "  </thead>\n",
       "  <tbody>\n",
       "    <tr>\n",
       "      <th>0</th>\n",
       "      <td>Nineteen Eighty-Four</td>\n",
       "      <td>376</td>\n",
       "    </tr>\n",
       "    <tr>\n",
       "      <th>1</th>\n",
       "      <td>Brave New World</td>\n",
       "      <td>288</td>\n",
       "    </tr>\n",
       "    <tr>\n",
       "      <th>2</th>\n",
       "      <td>The Iron Heel</td>\n",
       "      <td>354</td>\n",
       "    </tr>\n",
       "    <tr>\n",
       "      <th>3</th>\n",
       "      <td>We</td>\n",
       "      <td>256</td>\n",
       "    </tr>\n",
       "  </tbody>\n",
       "</table>"
      ],
      "text/plain": [
       "<myria.relation.MyriaRelation at 0x7fac7ad90d50>"
      ]
     },
     "execution_count": 7,
     "metadata": {},
     "output_type": "execute_result"
    }
   ],
   "source": [
    "# We've seen this, which displays a relation:\n",
    "MyriaRelation(\"Brandon:Demo:MoreBooks\")\n",
    "\n",
    "# But how do we actually USE the relation locally?"
   ]
  },
  {
   "cell_type": "code",
   "execution_count": 8,
   "metadata": {
    "collapsed": false,
    "slideshow": {
     "slide_type": "fragment"
    }
   },
   "outputs": [
    {
     "name": "stdout",
     "output_type": "stream",
     "text": [
      "First book returned: Brave New World\n",
      "[{u'name': u'Brave New World', u'pages': 288}, {u'name': u'We', u'pages': 256}, {u'name': u'Nineteen Eighty-Four', u'pages': 376}, {u'name': u'The Iron Heel', u'pages': 354}]\n"
     ]
    }
   ],
   "source": [
    "# 1: Download as a Python dictionary\n",
    "d = MyriaRelation(\"Brandon:Demo:MoreBooks\").to_dict()\n",
    "print 'First book returned: %s' % d[0]['name']\n",
    "print d"
   ]
  },
  {
   "cell_type": "code",
   "execution_count": 9,
   "metadata": {
    "collapsed": false,
    "slideshow": {
     "slide_type": "fragment"
    }
   },
   "outputs": [
    {
     "name": "stdout",
     "output_type": "stream",
     "text": [
      "2 books more than 300 pages\n"
     ]
    }
   ],
   "source": [
    "# 2: Download as a Pandas DataFrame\n",
    "df = MyriaRelation(\"Brandon:Demo:MoreBooks\").to_dataframe()\n",
    "print '%d books more than 300 pages' % len(df[df.pages > 300]) "
   ]
  },
  {
   "cell_type": "code",
   "execution_count": 10,
   "metadata": {
    "collapsed": false,
    "slideshow": {
     "slide_type": "fragment"
    }
   },
   "outputs": [
    {
     "name": "stdout",
     "output_type": "stream",
     "text": [
      "Mean number of pages = 318\n"
     ]
    }
   ],
   "source": [
    "# 3: Download as a DataFrame and convert to a numpy array\n",
    "array = MyriaRelation(\"Brandon:Demo:MoreBooks\").to_dataframe().as_matrix()\n",
    "print 'Mean number of pages = %d' % array[:,1].mean()"
   ]
  },
  {
   "cell_type": "markdown",
   "metadata": {
    "slideshow": {
     "slide_type": "slide"
    }
   },
   "source": [
    "## Working with queries"
   ]
  },
  {
   "cell_type": "code",
   "execution_count": 11,
   "metadata": {
    "collapsed": false,
    "slideshow": {
     "slide_type": "fragment"
    }
   },
   "outputs": [
    {
     "name": "stdout",
     "output_type": "stream",
     "text": [
      "SUCCESS\n"
     ]
    }
   ],
   "source": [
    "# Let's execute a query:\n",
    "\n",
    "query = MyriaQuery.submit(\n",
    "    \"\"\"books = scan(Brandon:Demo:MoreBooks);\n",
    "       longerBooks = [from books where pages > 300 emit name];\n",
    "       store(longerBooks, Brandon:Demo:LongerBooks);\"\"\")\n",
    "\n",
    "print query.status"
   ]
  },
  {
   "cell_type": "code",
   "execution_count": 12,
   "metadata": {
    "collapsed": false,
    "slideshow": {
     "slide_type": "fragment"
    }
   },
   "outputs": [
    {
     "data": {
      "text/html": [
       "<div style=\"max-height:1000px;max-width:1500px;overflow:auto;\">\n",
       "<table border=\"1\" class=\"dataframe\">\n",
       "  <thead>\n",
       "    <tr style=\"text-align: right;\">\n",
       "      <th></th>\n",
       "      <th>name</th>\n",
       "    </tr>\n",
       "  </thead>\n",
       "  <tbody>\n",
       "    <tr>\n",
       "      <th>0</th>\n",
       "      <td>The Iron Heel</td>\n",
       "    </tr>\n",
       "    <tr>\n",
       "      <th>1</th>\n",
       "      <td>Nineteen Eighty-Four</td>\n",
       "    </tr>\n",
       "  </tbody>\n",
       "</table>\n",
       "</div>"
      ],
      "text/plain": [
       "                   name\n",
       "0         The Iron Heel\n",
       "1  Nineteen Eighty-Four"
      ]
     },
     "execution_count": 12,
     "metadata": {},
     "output_type": "execute_result"
    }
   ],
   "source": [
    "query.to_dataframe()"
   ]
  },
  {
   "cell_type": "code",
   "execution_count": null,
   "metadata": {
    "collapsed": false,
    "slideshow": {
     "slide_type": "fragment"
    }
   },
   "outputs": [],
   "source": [
    "MyriaRelation(\"Brandon:Demo:LongerBooks\")"
   ]
  },
  {
   "cell_type": "markdown",
   "metadata": {
    "slideshow": {
     "slide_type": "slide"
    }
   },
   "source": [
    "# Myria IPython Extensions"
   ]
  },
  {
   "cell_type": "markdown",
   "metadata": {
    "slideshow": {
     "slide_type": "slide"
    }
   },
   "source": [
    "## 1. Loading the Extension"
   ]
  },
  {
   "cell_type": "code",
   "execution_count": 13,
   "metadata": {
    "collapsed": false,
    "slideshow": {
     "slide_type": "fragment"
    }
   },
   "outputs": [],
   "source": [
    "%load_ext myria"
   ]
  },
  {
   "cell_type": "markdown",
   "metadata": {
    "slideshow": {
     "slide_type": "slide"
    }
   },
   "source": [
    "## 2. Configuration Options"
   ]
  },
  {
   "cell_type": "code",
   "execution_count": 14,
   "metadata": {
    "collapsed": false,
    "slideshow": {
     "slide_type": "fragment"
    }
   },
   "outputs": [
    {
     "name": "stdout",
     "output_type": "stream",
     "text": [
      "MyriaExtension options\n",
      "--------------------\n",
      "MyriaExtension.execution_url=<Unicode>\n",
      "    Current: u'https://demo.myria.cs.washington.edu'\n",
      "    Myria web API endpoint URL\n",
      "MyriaExtension.language=<Unicode>\n",
      "    Current: u'MyriaL'\n",
      "    Language for Myria queries\n",
      "MyriaExtension.rest_url=<Unicode>\n",
      "    Current: u'https://rest.myria.cs.washington.edu:1776'\n",
      "    Myria REST API endpoint URL\n",
      "MyriaExtension.timeout=<Int>\n",
      "    Current: 60\n",
      "    Query timeout (in seconds)\n"
     ]
    }
   ],
   "source": [
    "%config MyriaExtension"
   ]
  },
  {
   "cell_type": "markdown",
   "metadata": {
    "slideshow": {
     "slide_type": "fragment"
    }
   },
   "source": [
    "The really important one:"
   ]
  },
  {
   "cell_type": "code",
   "execution_count": null,
   "metadata": {
    "collapsed": false,
    "slideshow": {
     "slide_type": "fragment"
    }
   },
   "outputs": [],
   "source": [
    "%config timeout=120"
   ]
  },
  {
   "cell_type": "markdown",
   "metadata": {
    "slideshow": {
     "slide_type": "slide"
    }
   },
   "source": [
    "## 3. Ambient Connection to Myria"
   ]
  },
  {
   "cell_type": "markdown",
   "metadata": {
    "slideshow": {
     "slide_type": "fragment"
    }
   },
   "source": [
    "View `connect` arguments:"
   ]
  },
  {
   "cell_type": "code",
   "execution_count": null,
   "metadata": {
    "collapsed": false,
    "slideshow": {
     "slide_type": "fragment"
    }
   },
   "outputs": [],
   "source": [
    "%connect?"
   ]
  },
  {
   "cell_type": "markdown",
   "metadata": {
    "slideshow": {
     "slide_type": "fragment"
    }
   },
   "source": [
    "Connect to the production server:"
   ]
  },
  {
   "cell_type": "code",
   "execution_count": 15,
   "metadata": {
    "collapsed": false,
    "slideshow": {
     "slide_type": "fragment"
    }
   },
   "outputs": [
    {
     "data": {
      "text/plain": [
       "<myria.connection.MyriaConnection at 0x7fac7ab6d2d0>"
      ]
     },
     "execution_count": 15,
     "metadata": {},
     "output_type": "execute_result"
    }
   ],
   "source": [
    "%connect https://rest.myria.cs.washington.edu:1776 https://myria-web.appspot.com\n",
    "            \n",
    "# This is just the IPython equivalent of setting the default MyriaConnection!"
   ]
  },
  {
   "cell_type": "markdown",
   "metadata": {
    "slideshow": {
     "slide_type": "slide"
    }
   },
   "source": [
    "## 4. Executing Queries"
   ]
  },
  {
   "cell_type": "code",
   "execution_count": 18,
   "metadata": {
    "collapsed": false,
    "slideshow": {
     "slide_type": "fragment"
    }
   },
   "outputs": [
    {
     "data": {
      "text/html": [
       "<table border=\"1\" class=\"dataframe\">\n",
       "  <thead>\n",
       "    <tr style=\"text-align: right;\">\n",
       "      <th></th>\n",
       "      <th>Cruise</th>\n",
       "      <th>Phytoplankton</th>\n",
       "    </tr>\n",
       "  </thead>\n",
       "  <tbody>\n",
       "    <tr>\n",
       "      <th>0</th>\n",
       "      <td>Tokyo_3</td>\n",
       "      <td>6088514</td>\n",
       "    </tr>\n",
       "    <tr>\n",
       "      <th>1</th>\n",
       "      <td>Tokyo_2</td>\n",
       "      <td>1824845</td>\n",
       "    </tr>\n",
       "    <tr>\n",
       "      <th>2</th>\n",
       "      <td>Tokyo_4</td>\n",
       "      <td>1353062</td>\n",
       "    </tr>\n",
       "    <tr>\n",
       "      <th>3</th>\n",
       "      <td>Tokyo_1</td>\n",
       "      <td>316049</td>\n",
       "    </tr>\n",
       "  </tbody>\n",
       "</table>"
      ],
      "text/plain": [
       "<myria.query.MyriaQuery at 0x7fac7ada6390>"
      ]
     },
     "execution_count": 18,
     "metadata": {},
     "output_type": "execute_result"
    }
   ],
   "source": [
    "%%query\n",
    "OppData = scan(all_opp_v3);\n",
    "VctData = scan(all_vct);\n",
    "\n",
    "OppWithPop = select opp.*, vct.pop\n",
    "             from OppData as opp,\n",
    "                  VctData as vct\n",
    "             where opp.Cruise = vct.Cruise\n",
    "               and opp.Day = vct.Day\n",
    "               and opp.File_Id = vct.File_Id\n",
    "               and opp.Cell_Id = vct.Cell_Id;\n",
    "\n",
    "PlanktonCount = select Cruise, count(*) as Phytoplankton\n",
    "                from OppWithPop\n",
    "                where pop != \"beads\" and pop != \"noise\"\n",
    "                  and fsc_small > 10000;\n",
    "\n",
    "store(PlanktonCount, public:demo:PlanktonCount);"
   ]
  },
  {
   "cell_type": "code",
   "execution_count": 19,
   "metadata": {
    "collapsed": false,
    "slideshow": {
     "slide_type": "fragment"
    }
   },
   "outputs": [],
   "source": [
    "# Grab the results of the most recent execution\n",
    "query = _\n",
    "or_this_works_too = _18"
   ]
  },
  {
   "cell_type": "code",
   "execution_count": 20,
   "metadata": {
    "collapsed": false,
    "slideshow": {
     "slide_type": "fragment"
    }
   },
   "outputs": [
    {
     "data": {
      "text/html": [
       "<table border=\"1\" class=\"dataframe\">\n",
       "  <thead>\n",
       "    <tr style=\"text-align: right;\">\n",
       "      <th></th>\n",
       "      <th>Cruise</th>\n",
       "      <th>Phytoplankton</th>\n",
       "    </tr>\n",
       "  </thead>\n",
       "  <tbody>\n",
       "    <tr>\n",
       "      <th>0</th>\n",
       "      <td>Tokyo_2</td>\n",
       "      <td>1824845</td>\n",
       "    </tr>\n",
       "    <tr>\n",
       "      <th>1</th>\n",
       "      <td>Tokyo_3</td>\n",
       "      <td>6088514</td>\n",
       "    </tr>\n",
       "    <tr>\n",
       "      <th>2</th>\n",
       "      <td>Tokyo_1</td>\n",
       "      <td>316049</td>\n",
       "    </tr>\n",
       "    <tr>\n",
       "      <th>3</th>\n",
       "      <td>Tokyo_4</td>\n",
       "      <td>1353062</td>\n",
       "    </tr>\n",
       "  </tbody>\n",
       "</table>"
      ],
      "text/plain": [
       "<myria.query.MyriaQuery at 0x7fac7ada6390>"
      ]
     },
     "execution_count": 20,
     "metadata": {},
     "output_type": "execute_result"
    }
   ],
   "source": [
    "query"
   ]
  },
  {
   "cell_type": "markdown",
   "metadata": {
    "slideshow": {
     "slide_type": "slide"
    }
   },
   "source": [
    "### Single-line queries may be treated like Python expressions"
   ]
  },
  {
   "cell_type": "code",
   "execution_count": 21,
   "metadata": {
    "collapsed": false,
    "slideshow": {
     "slide_type": "fragment"
    }
   },
   "outputs": [
    {
     "name": "stdout",
     "output_type": "stream",
     "text": [
      "SUCCESS\n"
     ]
    },
    {
     "data": {
      "text/html": [
       "<table border=\"1\" class=\"dataframe\">\n",
       "  <thead>\n",
       "    <tr style=\"text-align: right;\">\n",
       "      <th></th>\n",
       "      <th>_COLUMN1_</th>\n",
       "      <th>column0</th>\n",
       "    </tr>\n",
       "  </thead>\n",
       "  <tbody>\n",
       "    <tr>\n",
       "      <th>0</th>\n",
       "      <td>500</td>\n",
       "      <td>499</td>\n",
       "    </tr>\n",
       "    <tr>\n",
       "      <th>1</th>\n",
       "      <td>500</td>\n",
       "      <td>498</td>\n",
       "    </tr>\n",
       "  </tbody>\n",
       "</table>"
      ],
      "text/plain": [
       "<myria.query.MyriaQuery at 0x7fac982735d0>"
      ]
     },
     "execution_count": 21,
     "metadata": {},
     "output_type": "execute_result"
    }
   ],
   "source": [
    "query = %datalog Just500(column0, 500) :- TwitterK(column0, 500)%\n",
    "print query.status\n",
    "query"
   ]
  },
  {
   "cell_type": "markdown",
   "metadata": {
    "slideshow": {
     "slide_type": "slide"
    }
   },
   "source": [
    "## 5. Variable Binding"
   ]
  },
  {
   "cell_type": "code",
   "execution_count": 22,
   "metadata": {
    "collapsed": false,
    "slideshow": {
     "slide_type": "fragment"
    }
   },
   "outputs": [],
   "source": [
    "low, high, destination = 543, 550, 'BoundRelation'"
   ]
  },
  {
   "cell_type": "markdown",
   "metadata": {
    "slideshow": {
     "slide_type": "fragment"
    }
   },
   "source": [
    "The tokens `@low`, `@high`, and `@destination` are bound to their values:"
   ]
  },
  {
   "cell_type": "code",
   "execution_count": 23,
   "metadata": {
    "collapsed": false,
    "slideshow": {
     "slide_type": "fragment"
    }
   },
   "outputs": [
    {
     "data": {
      "text/html": [
       "<table border=\"1\" class=\"dataframe\">\n",
       "  <thead>\n",
       "    <tr style=\"text-align: right;\">\n",
       "      <th></th>\n",
       "      <th>x</th>\n",
       "    </tr>\n",
       "  </thead>\n",
       "  <tbody>\n",
       "    <tr>\n",
       "      <th>0</th>\n",
       "      <td>610</td>\n",
       "    </tr>\n",
       "    <tr>\n",
       "      <th>1</th>\n",
       "      <td>16</td>\n",
       "    </tr>\n",
       "    <tr>\n",
       "      <th>2</th>\n",
       "      <td>53</td>\n",
       "    </tr>\n",
       "    <tr>\n",
       "      <th>3</th>\n",
       "      <td>20</td>\n",
       "    </tr>\n",
       "    <tr>\n",
       "      <th>4</th>\n",
       "      <td>21</td>\n",
       "    </tr>\n",
       "    <tr>\n",
       "      <th>5</th>\n",
       "      <td>989</td>\n",
       "    </tr>\n",
       "  </tbody>\n",
       "</table>"
      ],
      "text/plain": [
       "<myria.query.MyriaQuery at 0x7fac9026ea10>"
      ]
     },
     "execution_count": 23,
     "metadata": {},
     "output_type": "execute_result"
    }
   ],
   "source": [
    "%%query\n",
    "T1 = scan(TwitterK);\n",
    "T2 = [from T1 where $0 > @low and $0 < @high emit $1 as x];\n",
    "store(T2, @destination);"
   ]
  },
  {
   "cell_type": "markdown",
   "metadata": {
    "slideshow": {
     "slide_type": "slide"
    }
   },
   "source": [
    "## 6. Plans and Delayed Execution"
   ]
  },
  {
   "cell_type": "markdown",
   "metadata": {
    "slideshow": {
     "slide_type": "fragment"
    }
   },
   "source": [
    "You can use `%plan` magic to compile a plan without immediatley executing it:"
   ]
  },
  {
   "cell_type": "code",
   "execution_count": 24,
   "metadata": {
    "collapsed": false,
    "slideshow": {
     "slide_type": "fragment"
    }
   },
   "outputs": [
    {
     "data": {
      "text/plain": [
       "{u'language': u'MyriaL',\n",
       " u'logicalRa': u'Store(public:adhoc:JustX)[Apply(column0=$0)[Select(($0 >= 999))[Scan(public:adhoc:TwitterK)]]]',\n",
       " u'plan': {u'fragments': [{u'operators': [{u'opId': 0,\n",
       "      u'opName': u'MyriaScan(public:adhoc:TwitterK)',\n",
       "      u'opType': u'TableScan',\n",
       "      u'relationKey': {u'programName': u'adhoc',\n",
       "       u'relationName': u'TwitterK',\n",
       "       u'userName': u'public'}},\n",
       "     {u'argChild': 0,\n",
       "      u'argPredicate': {u'rootExpressionOperator': {u'left': {u'columnIdx': 0,\n",
       "         u'type': u'VARIABLE'},\n",
       "        u'right': {u'type': u'CONSTANT',\n",
       "         u'value': u'999',\n",
       "         u'valueType': u'LONG_TYPE'},\n",
       "        u'type': u'GTEQ'}},\n",
       "      u'opId': 1,\n",
       "      u'opName': u'MyriaSelect(($0 >= 999))',\n",
       "      u'opType': u'Filter'},\n",
       "     {u'argChild': 1,\n",
       "      u'emitExpressions': [{u'outputName': u'column0',\n",
       "        u'rootExpressionOperator': {u'columnIdx': 0, u'type': u'VARIABLE'}}],\n",
       "      u'opId': 2,\n",
       "      u'opName': u'MyriaApply(column0=$0)',\n",
       "      u'opType': u'Apply'},\n",
       "     {u'argChild': 2,\n",
       "      u'argOverwriteTable': True,\n",
       "      u'opId': 3,\n",
       "      u'opName': u'MyriaStore(public:adhoc:JustX)',\n",
       "      u'opType': u'DbInsert',\n",
       "      u'relationKey': {u'programName': u'adhoc',\n",
       "       u'relationName': u'JustX',\n",
       "       u'userName': u'public'}}]}],\n",
       "  u'type': u'SubQuery'},\n",
       " u'profilingMode': [],\n",
       " u'rawQuery': u'\\nT1 = scan(TwitterK);\\nT2 = [from T1 where $0 >= 999 emit $0];\\nstore(T2, JustX);'}"
      ]
     },
     "execution_count": 24,
     "metadata": {},
     "output_type": "execute_result"
    }
   ],
   "source": [
    "%%plan \n",
    "T1 = scan(TwitterK);\n",
    "T2 = [from T1 where $0 >= 999 emit $0];\n",
    "store(T2, JustX);"
   ]
  },
  {
   "cell_type": "code",
   "execution_count": 26,
   "metadata": {
    "collapsed": false,
    "slideshow": {
     "slide_type": "fragment"
    }
   },
   "outputs": [
    {
     "data": {
      "text/html": [
       "<div style=\"max-height:1000px;max-width:1500px;overflow:auto;\">\n",
       "<table border=\"1\" class=\"dataframe\">\n",
       "  <thead>\n",
       "    <tr style=\"text-align: right;\">\n",
       "      <th></th>\n",
       "      <th>column0</th>\n",
       "    </tr>\n",
       "  </thead>\n",
       "  <tbody>\n",
       "    <tr>\n",
       "      <th>0</th>\n",
       "      <td>4995</td>\n",
       "    </tr>\n",
       "  </tbody>\n",
       "</table>\n",
       "</div>"
      ],
      "text/plain": [
       "   column0\n",
       "0     4995"
      ]
     },
     "execution_count": 26,
     "metadata": {},
     "output_type": "execute_result"
    }
   ],
   "source": [
    "plan = _\n",
    "result = [0]\n",
    "for i in xrange(5):\n",
    "    result += MyriaQuery.submit_plan(plan).to_dataframe()\n",
    "result"
   ]
  },
  {
   "cell_type": "markdown",
   "metadata": {
    "slideshow": {
     "slide_type": "slide"
    }
   },
   "source": [
    "# Myria in your own Amazon Cluster!"
   ]
  },
  {
   "cell_type": "markdown",
   "metadata": {
    "slideshow": {
     "slide_type": "fragment"
    }
   },
   "source": [
    "## 1. Installing Myria-EC2 & Starcluster"
   ]
  },
  {
   "cell_type": "markdown",
   "metadata": {
    "slideshow": {
     "slide_type": "fragment"
    }
   },
   "source": [
    "You'll need AWS API keys before installing:\n",
    "\n",
    "```\n",
    "github clone https://github.com/uwescience/myria-ec2.git\n",
    "cd myria-ec2\n",
    "sudo python setup.py install\n",
    "```\n",
    "\n"
   ]
  },
  {
   "cell_type": "markdown",
   "metadata": {
    "slideshow": {
     "slide_type": "slide"
    }
   },
   "source": [
    "## 2. Cluster Configuration"
   ]
  },
  {
   "cell_type": "code",
   "execution_count": 27,
   "metadata": {
    "collapsed": false,
    "slideshow": {
     "slide_type": "fragment"
    }
   },
   "outputs": [
    {
     "name": "stdout",
     "output_type": "stream",
     "text": [
      "[cluster myriacluster]\r\n",
      "KEYNAME = bhaynesKey\r\n",
      "CLUSTER_SIZE = 3\r\n",
      "NODE_INSTANCE_TYPE = m1.large\r\n",
      "#SPOT_BID = 0.08\r\n",
      "DISABLE_QUEUE=True\r\n",
      "\r\n",
      "PLUGINS = postgresplugin, myriaplugin\r\n",
      "CLUSTER_USER = myriaadmin\r\n",
      "DNS_PREFIX = True\r\n",
      "NODE_IMAGE_ID = ami-765b3e1f\r\n",
      "PERMISSIONS = rest, http\r\n",
      "\r\n",
      "[plugin postgresplugin]\r\n",
      "SETUP_CLASS = postgresplugin.PostgresInstaller\r\n",
      "PORT = 5432\r\n",
      "\r\n",
      "[plugin myriaplugin]\r\n",
      "SETUP_CLASS = myriaplugin.MyriaInstaller\r\n",
      "POSTGRES_PORT = 5432\r\n",
      "\r\n",
      "#DBMS=sqlite\r\n",
      "#PATH=/tmp/myria\r\n",
      "#HEAP=-Xmx2g\r\n",
      "#REST_PORT=8753\r\n",
      "#MASTER_PORT=8001\r\n",
      "#WORKER_PORT=9001\r\n",
      "#ADDITIONAL_PACKAGES=yum\r\n",
      "#REPOSITORY=https://github.com/uwescience/myria.git\r\n",
      "#INSTALL_DIRECTORY=~/myria\r\n",
      "#DATABASE_PASSWORD=myriaisawesome\r\n",
      "\r\n",
      "[permission rest]\r\n",
      "# this has to be the same as REST_PORT\r\n",
      "IP_PROTOCOL = tcp\r\n",
      "FROM_PORT = 8753\r\n",
      "TO_PORT = 8753\r\n",
      "\r\n",
      "[permission http]\r\n",
      "IP_PROTOCOL = tcp\r\n",
      "FROM_PORT = 80\r\n",
      "TO_PORT = 80\r\n"
     ]
    }
   ],
   "source": [
    "!cat ~/.starcluster/myriacluster.config"
   ]
  },
  {
   "cell_type": "markdown",
   "metadata": {
    "slideshow": {
     "slide_type": "slide"
    }
   },
   "source": [
    "### Important keys to consider modifing: \n",
    "```\n",
    "    CLUSTER_SIZE = 2\n",
    "    NODE_INSTANCE_TYPE = m1.large\n",
    "    SPOT_BID = 0.2\n",
    "```"
   ]
  },
  {
   "cell_type": "markdown",
   "metadata": {
    "slideshow": {
     "slide_type": "slide"
    }
   },
   "source": [
    "### How much should I bid?"
   ]
  },
  {
   "cell_type": "code",
   "execution_count": null,
   "metadata": {
    "collapsed": false,
    "slideshow": {
     "slide_type": "fragment"
    }
   },
   "outputs": [],
   "source": [
    "!starcluster spothistory -p m1.large"
   ]
  },
  {
   "cell_type": "markdown",
   "metadata": {
    "slideshow": {
     "slide_type": "slide"
    }
   },
   "source": [
    "## 2. Launching Clusters"
   ]
  },
  {
   "cell_type": "code",
   "execution_count": null,
   "metadata": {
    "collapsed": false,
    "slideshow": {
     "slide_type": "fragment"
    }
   },
   "outputs": [],
   "source": [
    "!starcluster start -c myriacluster MYCLUSTERNAME"
   ]
  },
  {
   "cell_type": "markdown",
   "metadata": {
    "slideshow": {
     "slide_type": "slide"
    }
   },
   "source": [
    "## 3. Connecting to the Cluster via Python"
   ]
  },
  {
   "cell_type": "code",
   "execution_count": 28,
   "metadata": {
    "collapsed": false,
    "slideshow": {
     "slide_type": "fragment"
    }
   },
   "outputs": [
    {
     "name": "stdout",
     "output_type": "stream",
     "text": [
      "StarCluster - (http://star.mit.edu/cluster) (v. 0.95.6)\n",
      "Software Tools for Academics and Researchers (STAR)\n",
      "Please submit bug reports to starcluster@mit.edu\n",
      "\n",
      "    myriademo-master running i-b564ef63 ec2-52-1-38-182.compute-1.amazonaws.com\n"
     ]
    }
   ],
   "source": [
    "!starcluster listclusters | grep MYCLUSTERNAME-master"
   ]
  },
  {
   "cell_type": "code",
   "execution_count": 29,
   "metadata": {
    "collapsed": false,
    "slideshow": {
     "slide_type": "fragment"
    }
   },
   "outputs": [
    {
     "data": {
      "text/plain": [
       "<myria.connection.MyriaConnection at 0x7fac90a9ff10>"
      ]
     },
     "execution_count": 29,
     "metadata": {},
     "output_type": "execute_result"
    }
   ],
   "source": [
    "%connect http://ec2-52-1-38-182.compute-1.amazonaws.com:8753"
   ]
  },
  {
   "cell_type": "code",
   "execution_count": 30,
   "metadata": {
    "collapsed": false,
    "slideshow": {
     "slide_type": "-"
    }
   },
   "outputs": [
    {
     "data": {
      "text/html": [
       "<table border=\"1\" class=\"dataframe\">\n",
       "  <thead>\n",
       "    <tr style=\"text-align: right;\">\n",
       "      <th></th>\n",
       "      <th>_COLUMN1_</th>\n",
       "      <th>column0</th>\n",
       "    </tr>\n",
       "  </thead>\n",
       "  <tbody>\n",
       "    <tr>\n",
       "      <th>0</th>\n",
       "      <td>500</td>\n",
       "      <td>499</td>\n",
       "    </tr>\n",
       "    <tr>\n",
       "      <th>1</th>\n",
       "      <td>500</td>\n",
       "      <td>498</td>\n",
       "    </tr>\n",
       "    <tr>\n",
       "      <th>2</th>\n",
       "      <td>500</td>\n",
       "      <td>499</td>\n",
       "    </tr>\n",
       "    <tr>\n",
       "      <th>3</th>\n",
       "      <td>500</td>\n",
       "      <td>498</td>\n",
       "    </tr>\n",
       "    <tr>\n",
       "      <th>4</th>\n",
       "      <td>500</td>\n",
       "      <td>499</td>\n",
       "    </tr>\n",
       "    <tr>\n",
       "      <th>5</th>\n",
       "      <td>500</td>\n",
       "      <td>498</td>\n",
       "    </tr>\n",
       "    <tr>\n",
       "      <th>6</th>\n",
       "      <td>500</td>\n",
       "      <td>499</td>\n",
       "    </tr>\n",
       "    <tr>\n",
       "      <th>7</th>\n",
       "      <td>500</td>\n",
       "      <td>498</td>\n",
       "    </tr>\n",
       "  </tbody>\n",
       "</table>"
      ],
      "text/plain": [
       "<myria.relation.MyriaRelation at 0x7fac90a9f790>"
      ]
     },
     "execution_count": 30,
     "metadata": {},
     "output_type": "execute_result"
    }
   ],
   "source": [
    "MyriaRelation(\"Just500\")"
   ]
  },
  {
   "cell_type": "markdown",
   "metadata": {
    "slideshow": {
     "slide_type": "slide"
    }
   },
   "source": [
    "## 4. What about the Web Interface?"
   ]
  },
  {
   "cell_type": "markdown",
   "metadata": {
    "slideshow": {
     "slide_type": "-"
    }
   },
   "source": [
    "Go to <a href=\"http://ec2-52-1-38-182.compute-1.amazonaws.com\" target=\"_blank\">http://ec2-52-1-38-182.compute-1.amazonaws.com</a> in your browser (**substitute the EC2 domain name returned by `grep` above!**)"
   ]
  },
  {
   "cell_type": "markdown",
   "metadata": {
    "slideshow": {
     "slide_type": "slide"
    }
   },
   "source": [
    "## 5. SSH into a Cluster"
   ]
  },
  {
   "cell_type": "code",
   "execution_count": null,
   "metadata": {
    "collapsed": false
   },
   "outputs": [],
   "source": [
    "!starcluster sshmaster MYCLUSTERNAME"
   ]
  },
  {
   "cell_type": "markdown",
   "metadata": {
    "slideshow": {
     "slide_type": "slide"
    }
   },
   "source": [
    "## 6. Terminating Clusters"
   ]
  },
  {
   "cell_type": "code",
   "execution_count": null,
   "metadata": {
    "collapsed": true,
    "slideshow": {
     "slide_type": "-"
    }
   },
   "outputs": [],
   "source": [
    "!starcluster terminate MYCLUSTERNAME"
   ]
  },
  {
   "cell_type": "markdown",
   "metadata": {
    "slideshow": {
     "slide_type": "slide"
    }
   },
   "source": [
    "# Where to find more information:"
   ]
  },
  {
   "cell_type": "markdown",
   "metadata": {
    "slideshow": {
     "slide_type": "fragment"
    }
   },
   "source": [
    "#### Documentation\n",
    "[Myria Website](http://myria.cs.washington.edu/)<br /> \n",
    "[Myria Python](http://myria.cs.washington.edu/docs/myriapython.html)<br /> \n",
    "[Additional Language Documentation](http://myria.cs.washington.edu/docs/myriaql.html)<br /> \n",
    "[This Notebook](https://github.com/uwescience/myria-python/blob/master/ipnb%20examples/myria%20examples.ipynb) \n",
    "\n",
    "#### Repositories\n",
    "[Myria](github.com/uwescience/myria)<br /> \n",
    "[Myria-Python](github.com/uwescience/myria-python)<br /> \n",
    "[Myria-EC2](github.com/uwescience/myria-ec2)\n",
    "\n",
    "#### Mailing List\n",
    "[myria-users@cs.washington.edu](mailto:myria-users@cs.washington.edu)"
   ]
  },
  {
   "cell_type": "markdown",
   "metadata": {
    "slideshow": {
     "slide_type": "subslide"
    }
   },
   "source": [
    "## StarCluster\n",
    "[Homepage](http://star.mit.edu/cluster/)\n",
    "\n",
    "## IPython\n",
    "[Homepage](http://ipython.org/)\n",
    "\n",
    "## Pandas/Dataframes\n",
    "[Homepage](http://pandas.pydata.org/)"
   ]
  }
 ],
 "metadata": {
  "celltoolbar": "Slideshow",
  "kernelspec": {
   "display_name": "Python 2",
   "language": "python",
   "name": "python2"
  },
  "language_info": {
   "codemirror_mode": {
    "name": "ipython",
    "version": 2
   },
   "file_extension": ".py",
   "mimetype": "text/x-python",
   "name": "python",
   "nbconvert_exporter": "python",
   "pygments_lexer": "ipython2",
   "version": "2.7.6"
  }
 },
 "nbformat": 4,
 "nbformat_minor": 0
}
