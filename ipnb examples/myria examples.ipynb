{
 "cells": [
  {
   "cell_type": "code",
   "execution_count": 15,
   "metadata": {
    "collapsed": false
   },
   "outputs": [
    {
     "name": "stdout",
     "output_type": "stream",
     "text": [
      "worker 0: aldebaran.cs.washington.edu:1778\n",
      "worker 1: altair.cs.washington.edu:1778\n",
      "worker 2: betelgeuse.cs.washington.edu:1778\n",
      "\n",
      "alive worker ids: [40, 22, 67, 49, 31, 12, 20, 6, 27, 55, 68, 62, 19, 34, 13, 41, 48, 5, 28, 69, 33, 18, 42, 47, 25, 61, 56, 46, 70, 7, 53, 26, 36, 8, 45, 35, 72, 63, 54, 17, 2, 9, 51, 44, 37, 58, 64, 16, 71, 10, 52, 43, 30, 23, 15, 38, 29, 1, 57, 65, 24, 21, 14, 60, 3, 66, 32, 39, 11, 4, 50, 59]\n",
      "\n",
      "first dataset: \n",
      "{u'created': u'2014-10-16T21:41:33.921-07:00',\n",
      " u'numTuples': 369,\n",
      " u'queryId': 35395,\n",
      " u'relationKey': {u'programName': u'adhoc',\n",
      "                  u'relationName': u'MassRangeGroups',\n",
      "                  u'userName': u'A'},\n",
      " u'schema': {u'columnNames': [u'NowGroup'], u'columnTypes': [u'INT_TYPE']},\n",
      " u'uri': u'https://rest.myria.cs.washington.edu:1776/dataset/user-A/program-adhoc/relation-MassRangeGroups'}\n",
      "None\n",
      "\n",
      "information contains in a datast: [u'created', u'numTuples', u'uri', u'queryId', u'relationKey', u'schema']\n",
      "\n",
      "schema of the data set is: {u'columnNames': [u'Cruise', u'Phytoplankton'], u'columnTypes': [u'STRING_TYPE', u'LONG_TYPE']}\n",
      "\n",
      "column names: [u'Cruise', u'Phytoplankton']\n",
      "column types: [u'STRING_TYPE', u'LONG_TYPE']\n"
     ]
    }
   ],
   "source": [
    "import pprint\n",
    "\n",
    "import myria\n",
    "\n",
    "#demo for some basic operations in myria library\n",
    "\n",
    "#make a connection to by constructing a MyriaConnection object\n",
    "#arguments: \n",
    "'''\n",
    "    config file (None in this example)\n",
    "    host name;\n",
    "    port number;\n",
    "    time out(time out for the connection)\n",
    "'''\n",
    "conn = myria.MyriaConnection(hostname='rest.myria.cs.washington.edu', port=1776, ssl=True)\n",
    "\n",
    "#get a dictionary of the workers\n",
    "workers = conn.workers()\n",
    "print \"worker 0: \" + workers['1']\n",
    "print \"worker 1: \" + workers['2']\n",
    "print \"worker 2: \" + workers['3']\n",
    "print\n",
    "\n",
    "#get a list of workers that are alive\n",
    "alive_workers = conn.workers_alive()\n",
    "print \"alive worker ids: \" + str(alive_workers)\n",
    "print\n",
    "\n",
    "\n",
    "#get a specific worker with it's id      //bug to fix: No JSON object could be decoded\n",
    "#worker = conn.worker(1)\n",
    "\n",
    "\n",
    "#get a list of datasets\n",
    "datasets = conn.datasets()\n",
    "first_set = datasets[0]\n",
    "print \"first dataset: \"\n",
    "print pprint.pprint(first_set)\n",
    "print\n",
    "\n",
    "#get one dataset named PlanktonCount\n",
    "#a dataset is a dictionary, the with keys: 'created', 'numTuples', 'uri', 'queryId', 'relationKey', 'schema'\n",
    "dataset = conn.dataset({\"userName\":\"public\",\"programName\":\"demo\",\"relationName\":\"PlanktonCount\"})\n",
    "\n",
    "#the dataset contains the following information:\n",
    "#created time, number of tuples in the schema, uri, quiry id, relationkey and the schema\n",
    "print \"information contains in a datast:\", dataset.keys()\n",
    "print\n",
    "\n",
    "#get the schema of a dataset\n",
    "print 'schema of the data set is:', dataset['schema']\n",
    "print\n",
    "\n",
    "#get a list of column names\n",
    "print \"column names:\", schema['columnNames']\n",
    "\n",
    "#get a list of column types\n",
    "print \"column types:\", schema['columnTypes']\n",
    "\n",
    "\n",
    "\n",
    "\n",
    "\n"
   ]
  },
  {
   "cell_type": "code",
   "execution_count": 7,
   "metadata": {
    "collapsed": false
   },
   "outputs": [
    {
     "name": "stdout",
     "output_type": "stream",
     "text": [
      "The myria extension is already loaded. To reload it, use:\n",
      "  %reload_ext myria\n"
     ]
    }
   ],
   "source": [
    "%load_ext myria"
   ]
  },
  {
   "cell_type": "code",
   "execution_count": 8,
   "metadata": {
    "collapsed": false
   },
   "outputs": [
    {
     "name": "stderr",
     "output_type": "stream",
     "text": [
      "ERROR: Line magic function `%myria` not found.\n"
     ]
    }
   ],
   "source": [
    "%myria MyriaL, https://rest.myria.cs.washington.edu:1776"
   ]
  },
  {
   "cell_type": "code",
   "execution_count": null,
   "metadata": {
    "collapsed": false
   },
   "outputs": [],
   "source": []
  }
 ],
 "metadata": {
  "kernelspec": {
   "display_name": "Python 2",
   "language": "python",
   "name": "python2"
  },
  "language_info": {
   "codemirror_mode": {
    "name": "ipython",
    "version": 2
   },
   "file_extension": ".py",
   "mimetype": "text/x-python",
   "name": "python",
   "nbconvert_exporter": "python",
   "pygments_lexer": "ipython2",
   "version": "2.7.9"
  }
 },
 "nbformat": 4,
 "nbformat_minor": 0
}
