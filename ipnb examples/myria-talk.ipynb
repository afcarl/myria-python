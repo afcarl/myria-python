{
 "cells": [
  {
   "cell_type": "markdown",
   "metadata": {
    "slideshow": {
     "slide_type": "slide"
    }
   },
   "source": [
    "# Myria-Python & IPython"
   ]
  },
  {
   "cell_type": "markdown",
   "metadata": {
    "slideshow": {
     "slide_type": "slide"
    }
   },
   "source": [
    "<img src=\"overview.png\" style=\"height: 300px\"/>"
   ]
  },
  {
   "cell_type": "markdown",
   "metadata": {
    "slideshow": {
     "slide_type": "slide"
    }
   },
   "source": [
    "### To install `Myria-Python`:\n",
    "\n",
    "```\n",
    "git clone https://github.com/uwescience/myria-python\n",
    "cd myria-python\n",
    "sudo python setup.py install\n",
    "```\n",
    "\n",
    "### Or:\n",
    "\n",
    "```\n",
    "pip install myria-python\n",
    "```\n",
    "\n"
   ]
  },
  {
   "cell_type": "markdown",
   "metadata": {
    "slideshow": {
     "slide_type": "slide"
    }
   },
   "source": [
    "## 1. Connecting to Myria"
   ]
  },
  {
   "cell_type": "code",
   "execution_count": 47,
   "metadata": {
    "collapsed": false,
    "slideshow": {
     "slide_type": "fragment"
    }
   },
   "outputs": [],
   "source": [
    "from myria import *\n",
    "import numpy\n",
    "\n",
    "# Create a connection to a Myria EC2 cluster\n",
    "connection = MyriaConnection(\n",
    "    rest_url='http://ec2-52-26-242-67.us-west-2.compute.amazonaws.com:8753',\n",
    "    execution_url='http://ec2-52-26-242-67.us-west-2.compute.amazonaws.com:8080')"
   ]
  },
  {
   "cell_type": "code",
   "execution_count": 48,
   "metadata": {
    "collapsed": false,
    "slideshow": {
     "slide_type": "fragment"
    }
   },
   "outputs": [
    {
     "data": {
      "text/plain": [
       "<myria.connection.MyriaConnection at 0x114177c50>"
      ]
     },
     "execution_count": 48,
     "metadata": {},
     "output_type": "execute_result"
    }
   ],
   "source": [
    "connection"
   ]
  },
  {
   "cell_type": "markdown",
   "metadata": {
    "slideshow": {
     "slide_type": "slide"
    }
   },
   "source": [
    "## 2. Myria: Connections, Relations, and Queries (and Schemas and Plans)"
   ]
  },
  {
   "cell_type": "code",
   "execution_count": 49,
   "metadata": {
    "collapsed": false,
    "slideshow": {
     "slide_type": "fragment"
    }
   },
   "outputs": [
    {
     "name": "stdout",
     "output_type": "stream",
     "text": [
      "5\n"
     ]
    }
   ],
   "source": [
    "# How many datasets are there on the server?\n",
    "print len(connection.datasets())"
   ]
  },
  {
   "cell_type": "code",
   "execution_count": 24,
   "metadata": {
    "collapsed": false,
    "slideshow": {
     "slide_type": "slide"
    }
   },
   "outputs": [
    {
     "name": "stdout",
     "output_type": "stream",
     "text": [
      "[{u'created': u'2016-01-26T09:36:53.787Z', u'numTuples': 100, u'uri': u'http://ec2-52-33-72-224.us-west-2.compute.amazonaws.com:8753/dataset/user-public/program-adhoc/relation-CC', u'howPartitioned': {u'workers': [1, 2], u'pf': None}, u'queryId': 88, u'relationKey': {u'userName': u'public', u'relationName': u'CC', u'programName': u'adhoc'}, u'schema': {u'columnNames': [u'id2', u'min_min_component_id'], u'columnTypes': [u'LONG_TYPE', u'LONG_TYPE']}}, {u'created': u'2016-01-26T08:57:32.045Z', u'numTuples': 2715, u'uri': u'http://ec2-52-33-72-224.us-west-2.compute.amazonaws.com:8753/dataset/user-public/program-adhoc/relation-JustX', u'howPartitioned': {u'workers': [1, 2], u'pf': None}, u'queryId': 6, u'relationKey': {u'userName': u'public', u'relationName': u'JustX', u'programName': u'adhoc'}, u'schema': {u'columnNames': [u'x'], u'columnTypes': [u'LONG_TYPE']}}, {u'created': u'2016-01-26T09:03:45.437Z', u'numTuples': 2715, u'uri': u'http://ec2-52-33-72-224.us-west-2.compute.amazonaws.com:8753/dataset/user-public/program-adhoc/relation-K', u'howPartitioned': {u'workers': [1, 2], u'pf': None}, u'queryId': 7, u'relationKey': {u'userName': u'public', u'relationName': u'K', u'programName': u'adhoc'}, u'schema': {u'columnNames': [u'a', u'_COLUMN1_'], u'columnTypes': [u'LONG_TYPE', u'LONG_TYPE']}}, {u'created': u'2016-01-26T08:57:03.606Z', u'numTuples': 2715, u'uri': u'http://ec2-52-33-72-224.us-west-2.compute.amazonaws.com:8753/dataset/user-public/program-adhoc/relation-TwitterK', u'howPartitioned': {u'workers': [1, 2], u'pf': {u'numPartitions': None, u'type': u'MultiFieldHash', u'indexes': [0, 1]}}, u'queryId': 4, u'relationKey': {u'userName': u'public', u'relationName': u'TwitterK', u'programName': u'adhoc'}, u'schema': {u'columnNames': [u'a', u'b'], u'columnTypes': [u'LONG_TYPE', u'LONG_TYPE']}}, {u'created': u'2016-01-26T09:40:25.517Z', u'numTuples': 50, u'uri': u'http://ec2-52-33-72-224.us-west-2.compute.amazonaws.com:8753/dataset/user-public/program-adhoc/relation-comp', u'howPartitioned': {u'workers': [1, 2], u'pf': {u'numPartitions': None, u'index': 1, u'seedIndex': 0, u'type': u'SingleFieldHash'}}, u'queryId': 90, u'relationKey': {u'userName': u'public', u'relationName': u'comp', u'programName': u'adhoc'}, u'schema': {u'columnNames': [u'cnt', u'id'], u'columnTypes': [u'LONG_TYPE', u'LONG_TYPE']}}, {u'created': u'2016-01-26T09:25:19.361Z', u'numTuples': 50, u'uri': u'http://ec2-52-33-72-224.us-west-2.compute.amazonaws.com:8753/dataset/user-public/program-adhoc/relation-distances', u'howPartitioned': {u'workers': [1, 2], u'pf': None}, u'queryId': 14, u'relationKey': {u'userName': u'public', u'relationName': u'distances', u'programName': u'adhoc'}, u'schema': {u'columnNames': [u'id1', u'id2', u'ghost', u'ghost1', u'_COLUMN4_'], u'columnTypes': [u'LONG_TYPE', u'LONG_TYPE', u'LONG_TYPE', u'LONG_TYPE', u'DOUBLE_TYPE']}}, {u'created': u'2016-01-26T09:05:05.920Z', u'numTuples': 5430, u'uri': u'http://ec2-52-33-72-224.us-west-2.compute.amazonaws.com:8753/dataset/user-public/program-adhoc/relation-union_result', u'howPartitioned': {u'workers': [1, 2], u'pf': {u'numPartitions': None, u'type': u'MultiFieldHash', u'indexes': [0, 1]}}, u'queryId': 9, u'relationKey': {u'userName': u'public', u'relationName': u'union_result', u'programName': u'adhoc'}, u'schema': {u'columnNames': [u'a', u'b'], u'columnTypes': [u'LONG_TYPE', u'LONG_TYPE']}}, {u'created': u'2016-01-26T07:45:39.720Z', u'numTuples': -1, u'uri': u'http://ec2-52-33-72-224.us-west-2.compute.amazonaws.com:8753/dataset/user-public/program-logs/relation-Profiling', u'howPartitioned': {u'workers': [1, 2], u'pf': None}, u'queryId': 1, u'relationKey': {u'userName': u'public', u'relationName': u'Profiling', u'programName': u'logs'}, u'schema': {u'columnNames': [u'queryId', u'subQueryId', u'fragmentId', u'opId', u'startTime', u'endTime', u'numTuples'], u'columnTypes': [u'LONG_TYPE', u'INT_TYPE', u'INT_TYPE', u'INT_TYPE', u'LONG_TYPE', u'LONG_TYPE', u'LONG_TYPE']}}, {u'created': u'2016-01-26T07:45:39.880Z', u'numTuples': -1, u'uri': u'http://ec2-52-33-72-224.us-west-2.compute.amazonaws.com:8753/dataset/user-public/program-logs/relation-Resource', u'howPartitioned': {u'workers': [1, 2], u'pf': None}, u'queryId': 3, u'relationKey': {u'userName': u'public', u'relationName': u'Resource', u'programName': u'logs'}, u'schema': {u'columnNames': [u'timestamp', u'opId', u'measurement', u'value', u'queryId', u'subqueryId'], u'columnTypes': [u'LONG_TYPE', u'INT_TYPE', u'STRING_TYPE', u'LONG_TYPE', u'LONG_TYPE', u'LONG_TYPE']}}, {u'created': u'2016-01-26T07:45:39.867Z', u'numTuples': -1, u'uri': u'http://ec2-52-33-72-224.us-west-2.compute.amazonaws.com:8753/dataset/user-public/program-logs/relation-Sending', u'howPartitioned': {u'workers': [1, 2], u'pf': None}, u'queryId': 2, u'relationKey': {u'userName': u'public', u'relationName': u'Sending', u'programName': u'logs'}, u'schema': {u'columnNames': [u'queryId', u'subQueryId', u'fragmentId', u'nanoTime', u'numTuples', u'destWorkerId'], u'columnTypes': [u'LONG_TYPE', u'INT_TYPE', u'INT_TYPE', u'LONG_TYPE', u'LONG_TYPE', u'INT_TYPE']}}]\n"
     ]
    }
   ],
   "source": [
    "# Let's look at the datasets...\n",
    "print connection.datasets()"
   ]
  },
  {
   "cell_type": "markdown",
   "metadata": {
    "slideshow": {
     "slide_type": "slide"
    }
   },
   "source": [
    "### Three parts to a relation name:"
   ]
  },
  {
   "cell_type": "code",
   "execution_count": 50,
   "metadata": {
    "collapsed": false,
    "scrolled": true,
    "slideshow": {
     "slide_type": "fragment"
    }
   },
   "outputs": [
    {
     "data": {
      "text/plain": [
       "{u'programName': u'adhoc',\n",
       " u'relationName': u'TwitterCC',\n",
       " u'userName': u'public'}"
      ]
     },
     "execution_count": 50,
     "metadata": {},
     "output_type": "execute_result"
    }
   ],
   "source": [
    "# What's the name of the first relation?\n",
    "name = connection.datasets()[0]['relationKey']\n",
    "name"
   ]
  },
  {
   "cell_type": "code",
   "execution_count": 51,
   "metadata": {
    "collapsed": false,
    "slideshow": {
     "slide_type": "fragment"
    }
   },
   "outputs": [
    {
     "data": {
      "text/plain": [
       "u'SUCCESS'"
      ]
     },
     "execution_count": 51,
     "metadata": {},
     "output_type": "execute_result"
    }
   ],
   "source": [
    "# Let's upload a dataset...\n",
    "query = MyriaQuery.submit(\n",
    "'''T1 = load(\"https://goo.gl/YqKALA\",csv(schema(a:int, b:int),skip=0));store(T1, TwitterK2, [a, b]);''', connection=connection)\n",
    "query.status"
   ]
  },
  {
   "cell_type": "code",
   "execution_count": 52,
   "metadata": {
    "collapsed": false,
    "slideshow": {
     "slide_type": "fragment"
    }
   },
   "outputs": [
    {
     "name": "stdout",
     "output_type": "stream",
     "text": [
      "SUCCESS\n",
      "6\n",
      "{u'created': u'2016-01-26T17:49:07.159Z', u'numTuples': -1, u'uri': u'http://ec2-52-26-242-67.us-west-2.compute.amazonaws.com:8753/dataset/user-public/program-logs/relation-Sending', u'howPartitioned': {u'workers': [1, 2], u'pf': None}, u'queryId': 2, u'relationKey': {u'userName': u'public', u'relationName': u'Sending', u'programName': u'logs'}, u'schema': {u'columnNames': [u'queryId', u'subQueryId', u'fragmentId', u'nanoTime', u'numTuples', u'destWorkerId'], u'columnTypes': [u'LONG_TYPE', u'INT_TYPE', u'INT_TYPE', u'LONG_TYPE', u'LONG_TYPE', u'INT_TYPE']}}\n"
     ]
    }
   ],
   "source": [
    "print query.status\n",
    "print len(connection.datasets())\n",
    "print connection.datasets()[-1]"
   ]
  },
  {
   "cell_type": "code",
   "execution_count": 53,
   "metadata": {
    "collapsed": false,
    "slideshow": {
     "slide_type": "fragment"
    }
   },
   "outputs": [
    {
     "data": {
      "text/plain": [
       "u'SUCCESS'"
      ]
     },
     "execution_count": 53,
     "metadata": {},
     "output_type": "execute_result"
    }
   ],
   "source": [
    "# Let's try another query...\n",
    "query = MyriaQuery.submit(\n",
    "'''T1 = scan(TwitterK);\n",
    "  T2 = scan(TwitterK);\n",
    "  Joined = [from T1, T2\n",
    "            emit T1.$0 as src, T1.$1 as link, T2.$1 as dst];\n",
    "  store(Joined, TwoHopsInTwitter);\n",
    "''', connection=connection)\n",
    "query.status"
   ]
  },
  {
   "cell_type": "markdown",
   "metadata": {
    "slideshow": {
     "slide_type": "slide"
    }
   },
   "source": [
    "### Setting a default connection"
   ]
  },
  {
   "cell_type": "code",
   "execution_count": 54,
   "metadata": {
    "collapsed": false,
    "slideshow": {
     "slide_type": "-"
    }
   },
   "outputs": [],
   "source": [
    "# Set the default connection for the session\n",
    "MyriaRelation.DefaultConnection = connection"
   ]
  },
  {
   "cell_type": "markdown",
   "metadata": {
    "slideshow": {
     "slide_type": "slide"
    }
   },
   "source": [
    "# Myria IPython Extensions"
   ]
  },
  {
   "cell_type": "markdown",
   "metadata": {
    "slideshow": {
     "slide_type": "slide"
    }
   },
   "source": [
    "## 1. Loading the Extension"
   ]
  },
  {
   "cell_type": "code",
   "execution_count": 55,
   "metadata": {
    "collapsed": false,
    "slideshow": {
     "slide_type": "fragment"
    }
   },
   "outputs": [
    {
     "name": "stdout",
     "output_type": "stream",
     "text": [
      "The myria extension is already loaded. To reload it, use:\n",
      "  %reload_ext myria\n"
     ]
    }
   ],
   "source": [
    "%load_ext myria"
   ]
  },
  {
   "cell_type": "markdown",
   "metadata": {
    "slideshow": {
     "slide_type": "slide"
    }
   },
   "source": [
    "## 2. Configuration Options"
   ]
  },
  {
   "cell_type": "code",
   "execution_count": 69,
   "metadata": {
    "collapsed": false,
    "slideshow": {
     "slide_type": "fragment"
    }
   },
   "outputs": [
    {
     "name": "stdout",
     "output_type": "stream",
     "text": [
      "MyriaExtension options\n",
      "--------------------\n",
      "MyriaExtension.execution_url=<Unicode>\n",
      "    Current: u'https://demo.myria.cs.washington.edu'\n",
      "    Myria web API endpoint URL\n",
      "MyriaExtension.language=<Unicode>\n",
      "    Current: u'MyriaL'\n",
      "    Language for Myria queries\n",
      "MyriaExtension.rest_url=<Unicode>\n",
      "    Current: u'https://rest.myria.cs.washington.edu:1776'\n",
      "    Myria REST API endpoint URL\n",
      "MyriaExtension.timeout=<Int>\n",
      "    Current: 60\n",
      "    Query timeout (in seconds)\n"
     ]
    }
   ],
   "source": [
    "%config MyriaExtension"
   ]
  },
  {
   "cell_type": "markdown",
   "metadata": {
    "slideshow": {
     "slide_type": "fragment"
    }
   },
   "source": [
    "The really important one:"
   ]
  },
  {
   "cell_type": "code",
   "execution_count": 68,
   "metadata": {
    "collapsed": false,
    "slideshow": {
     "slide_type": "fragment"
    }
   },
   "outputs": [],
   "source": [
    "%config timeout=120"
   ]
  },
  {
   "cell_type": "markdown",
   "metadata": {
    "slideshow": {
     "slide_type": "slide"
    }
   },
   "source": [
    "## 3. Ambient Connection to Myria"
   ]
  },
  {
   "cell_type": "markdown",
   "metadata": {
    "slideshow": {
     "slide_type": "slide"
    }
   },
   "source": [
    "View `connect` arguments:"
   ]
  },
  {
   "cell_type": "code",
   "execution_count": 65,
   "metadata": {
    "collapsed": false,
    "slideshow": {
     "slide_type": "fragment"
    }
   },
   "outputs": [],
   "source": [
    "%connect?"
   ]
  },
  {
   "cell_type": "markdown",
   "metadata": {
    "slideshow": {
     "slide_type": "slide"
    }
   },
   "source": [
    "Connect to the EC2 cluster:"
   ]
  },
  {
   "cell_type": "code",
   "execution_count": 66,
   "metadata": {
    "collapsed": false,
    "slideshow": {
     "slide_type": "fragment"
    }
   },
   "outputs": [
    {
     "data": {
      "text/plain": [
       "<myria.connection.MyriaConnection at 0x212095950>"
      ]
     },
     "execution_count": 66,
     "metadata": {},
     "output_type": "execute_result"
    }
   ],
   "source": [
    "%connect http://ec2-52-26-242-67.us-west-2.compute.amazonaws.com:8753 http://ec2-52-26-242-67.us-west-2.compute.amazonaws.com:8080\n",
    "            \n",
    "# This is just the IPython equivalent of setting the default MyriaConnection!"
   ]
  },
  {
   "cell_type": "markdown",
   "metadata": {
    "slideshow": {
     "slide_type": "slide"
    }
   },
   "source": [
    "## 4. Executing Queries"
   ]
  },
  {
   "cell_type": "code",
   "execution_count": 70,
   "metadata": {
    "collapsed": false,
    "slideshow": {
     "slide_type": "fragment"
    }
   },
   "outputs": [
    {
     "data": {
      "text/html": [
       "<table border=\"1\" class=\"dataframe\">\n",
       "  <thead>\n",
       "    <tr style=\"text-align: right;\">\n",
       "      <th></th>\n",
       "      <th>_COLUMN4_</th>\n",
       "      <th>ghost</th>\n",
       "      <th>ghost1</th>\n",
       "      <th>id1</th>\n",
       "      <th>id2</th>\n",
       "    </tr>\n",
       "  </thead>\n",
       "  <tbody>\n",
       "    <tr>\n",
       "      <th>0</th>\n",
       "      <td>0.000006</td>\n",
       "      <td>0</td>\n",
       "      <td>0</td>\n",
       "      <td>4</td>\n",
       "      <td>104</td>\n",
       "    </tr>\n",
       "    <tr>\n",
       "      <th>1</th>\n",
       "      <td>0.000006</td>\n",
       "      <td>0</td>\n",
       "      <td>0</td>\n",
       "      <td>6</td>\n",
       "      <td>106</td>\n",
       "    </tr>\n",
       "    <tr>\n",
       "      <th>2</th>\n",
       "      <td>0.000005</td>\n",
       "      <td>0</td>\n",
       "      <td>0</td>\n",
       "      <td>16</td>\n",
       "      <td>116</td>\n",
       "    </tr>\n",
       "    <tr>\n",
       "      <th>3</th>\n",
       "      <td>0.000004</td>\n",
       "      <td>0</td>\n",
       "      <td>0</td>\n",
       "      <td>17</td>\n",
       "      <td>117</td>\n",
       "    </tr>\n",
       "    <tr>\n",
       "      <th>4</th>\n",
       "      <td>0.000008</td>\n",
       "      <td>0</td>\n",
       "      <td>0</td>\n",
       "      <td>18</td>\n",
       "      <td>118</td>\n",
       "    </tr>\n",
       "    <tr>\n",
       "      <th>5</th>\n",
       "      <td>0.000008</td>\n",
       "      <td>0</td>\n",
       "      <td>0</td>\n",
       "      <td>21</td>\n",
       "      <td>121</td>\n",
       "    </tr>\n",
       "    <tr>\n",
       "      <th>6</th>\n",
       "      <td>0.000007</td>\n",
       "      <td>0</td>\n",
       "      <td>0</td>\n",
       "      <td>26</td>\n",
       "      <td>126</td>\n",
       "    </tr>\n",
       "    <tr>\n",
       "      <th>7</th>\n",
       "      <td>0.000009</td>\n",
       "      <td>0</td>\n",
       "      <td>0</td>\n",
       "      <td>27</td>\n",
       "      <td>127</td>\n",
       "    </tr>\n",
       "    <tr>\n",
       "      <th>8</th>\n",
       "      <td>0.000009</td>\n",
       "      <td>0</td>\n",
       "      <td>0</td>\n",
       "      <td>30</td>\n",
       "      <td>130</td>\n",
       "    </tr>\n",
       "    <tr>\n",
       "      <th>9</th>\n",
       "      <td>0.000006</td>\n",
       "      <td>0</td>\n",
       "      <td>0</td>\n",
       "      <td>36</td>\n",
       "      <td>136</td>\n",
       "    </tr>\n",
       "    <tr>\n",
       "      <th>10</th>\n",
       "      <td>0.000003</td>\n",
       "      <td>0</td>\n",
       "      <td>0</td>\n",
       "      <td>38</td>\n",
       "      <td>138</td>\n",
       "    </tr>\n",
       "    <tr>\n",
       "      <th>11</th>\n",
       "      <td>0.000005</td>\n",
       "      <td>0</td>\n",
       "      <td>0</td>\n",
       "      <td>43</td>\n",
       "      <td>143</td>\n",
       "    </tr>\n",
       "    <tr>\n",
       "      <th>12</th>\n",
       "      <td>0.000007</td>\n",
       "      <td>0</td>\n",
       "      <td>0</td>\n",
       "      <td>45</td>\n",
       "      <td>145</td>\n",
       "    </tr>\n",
       "    <tr>\n",
       "      <th>13</th>\n",
       "      <td>0.000004</td>\n",
       "      <td>0</td>\n",
       "      <td>0</td>\n",
       "      <td>46</td>\n",
       "      <td>146</td>\n",
       "    </tr>\n",
       "    <tr>\n",
       "      <th>14</th>\n",
       "      <td>0.000009</td>\n",
       "      <td>0</td>\n",
       "      <td>0</td>\n",
       "      <td>47</td>\n",
       "      <td>147</td>\n",
       "    </tr>\n",
       "    <tr>\n",
       "      <th>15</th>\n",
       "      <td>0.000005</td>\n",
       "      <td>0</td>\n",
       "      <td>0</td>\n",
       "      <td>50</td>\n",
       "      <td>150</td>\n",
       "    </tr>\n",
       "    <tr>\n",
       "      <th>16</th>\n",
       "      <td>0.000009</td>\n",
       "      <td>0</td>\n",
       "      <td>0</td>\n",
       "      <td>51</td>\n",
       "      <td>151</td>\n",
       "    </tr>\n",
       "    <tr>\n",
       "      <th>17</th>\n",
       "      <td>0.000010</td>\n",
       "      <td>0</td>\n",
       "      <td>0</td>\n",
       "      <td>59</td>\n",
       "      <td>159</td>\n",
       "    </tr>\n",
       "    <tr>\n",
       "      <th>18</th>\n",
       "      <td>0.000007</td>\n",
       "      <td>0</td>\n",
       "      <td>0</td>\n",
       "      <td>60</td>\n",
       "      <td>160</td>\n",
       "    </tr>\n",
       "    <tr>\n",
       "      <th>19</th>\n",
       "      <td>0.000007</td>\n",
       "      <td>0</td>\n",
       "      <td>0</td>\n",
       "      <td>62</td>\n",
       "      <td>162</td>\n",
       "    </tr>\n",
       "    <tr>\n",
       "      <th>20</th>\n",
       "      <td>0.000007</td>\n",
       "      <td>0</td>\n",
       "      <td>0</td>\n",
       "      <td>63</td>\n",
       "      <td>163</td>\n",
       "    </tr>\n",
       "    <tr>\n",
       "      <th>21</th>\n",
       "      <td>0.000007</td>\n",
       "      <td>0</td>\n",
       "      <td>0</td>\n",
       "      <td>67</td>\n",
       "      <td>167</td>\n",
       "    </tr>\n",
       "    <tr>\n",
       "      <th>22</th>\n",
       "      <td>0.000006</td>\n",
       "      <td>0</td>\n",
       "      <td>0</td>\n",
       "      <td>73</td>\n",
       "      <td>173</td>\n",
       "    </tr>\n",
       "    <tr>\n",
       "      <th>23</th>\n",
       "      <td>0.000008</td>\n",
       "      <td>0</td>\n",
       "      <td>0</td>\n",
       "      <td>74</td>\n",
       "      <td>174</td>\n",
       "    </tr>\n",
       "    <tr>\n",
       "      <th>24</th>\n",
       "      <td>0.000008</td>\n",
       "      <td>0</td>\n",
       "      <td>0</td>\n",
       "      <td>76</td>\n",
       "      <td>176</td>\n",
       "    </tr>\n",
       "    <tr>\n",
       "      <th>25</th>\n",
       "      <td>0.000007</td>\n",
       "      <td>0</td>\n",
       "      <td>0</td>\n",
       "      <td>85</td>\n",
       "      <td>185</td>\n",
       "    </tr>\n",
       "    <tr>\n",
       "      <th>26</th>\n",
       "      <td>0.000004</td>\n",
       "      <td>0</td>\n",
       "      <td>0</td>\n",
       "      <td>92</td>\n",
       "      <td>192</td>\n",
       "    </tr>\n",
       "    <tr>\n",
       "      <th>27</th>\n",
       "      <td>0.000008</td>\n",
       "      <td>0</td>\n",
       "      <td>0</td>\n",
       "      <td>93</td>\n",
       "      <td>193</td>\n",
       "    </tr>\n",
       "    <tr>\n",
       "      <th>28</th>\n",
       "      <td>0.000006</td>\n",
       "      <td>0</td>\n",
       "      <td>0</td>\n",
       "      <td>96</td>\n",
       "      <td>196</td>\n",
       "    </tr>\n",
       "    <tr>\n",
       "      <th>29</th>\n",
       "      <td>0.000008</td>\n",
       "      <td>0</td>\n",
       "      <td>0</td>\n",
       "      <td>97</td>\n",
       "      <td>197</td>\n",
       "    </tr>\n",
       "    <tr>\n",
       "      <th>30</th>\n",
       "      <td>0.000006</td>\n",
       "      <td>0</td>\n",
       "      <td>0</td>\n",
       "      <td>100</td>\n",
       "      <td>200</td>\n",
       "    </tr>\n",
       "    <tr>\n",
       "      <th>31</th>\n",
       "      <td>0.000011</td>\n",
       "      <td>0</td>\n",
       "      <td>0</td>\n",
       "      <td>1</td>\n",
       "      <td>101</td>\n",
       "    </tr>\n",
       "    <tr>\n",
       "      <th>32</th>\n",
       "      <td>0.000009</td>\n",
       "      <td>0</td>\n",
       "      <td>0</td>\n",
       "      <td>3</td>\n",
       "      <td>103</td>\n",
       "    </tr>\n",
       "    <tr>\n",
       "      <th>33</th>\n",
       "      <td>0.000010</td>\n",
       "      <td>0</td>\n",
       "      <td>0</td>\n",
       "      <td>9</td>\n",
       "      <td>109</td>\n",
       "    </tr>\n",
       "    <tr>\n",
       "      <th>34</th>\n",
       "      <td>0.000010</td>\n",
       "      <td>0</td>\n",
       "      <td>0</td>\n",
       "      <td>22</td>\n",
       "      <td>122</td>\n",
       "    </tr>\n",
       "    <tr>\n",
       "      <th>35</th>\n",
       "      <td>0.000009</td>\n",
       "      <td>0</td>\n",
       "      <td>0</td>\n",
       "      <td>24</td>\n",
       "      <td>124</td>\n",
       "    </tr>\n",
       "    <tr>\n",
       "      <th>36</th>\n",
       "      <td>0.000008</td>\n",
       "      <td>0</td>\n",
       "      <td>0</td>\n",
       "      <td>25</td>\n",
       "      <td>125</td>\n",
       "    </tr>\n",
       "    <tr>\n",
       "      <th>37</th>\n",
       "      <td>0.000009</td>\n",
       "      <td>0</td>\n",
       "      <td>0</td>\n",
       "      <td>34</td>\n",
       "      <td>134</td>\n",
       "    </tr>\n",
       "    <tr>\n",
       "      <th>38</th>\n",
       "      <td>0.000008</td>\n",
       "      <td>0</td>\n",
       "      <td>0</td>\n",
       "      <td>39</td>\n",
       "      <td>139</td>\n",
       "    </tr>\n",
       "    <tr>\n",
       "      <th>39</th>\n",
       "      <td>0.000008</td>\n",
       "      <td>0</td>\n",
       "      <td>0</td>\n",
       "      <td>41</td>\n",
       "      <td>141</td>\n",
       "    </tr>\n",
       "    <tr>\n",
       "      <th>40</th>\n",
       "      <td>0.000006</td>\n",
       "      <td>0</td>\n",
       "      <td>0</td>\n",
       "      <td>54</td>\n",
       "      <td>154</td>\n",
       "    </tr>\n",
       "    <tr>\n",
       "      <th>41</th>\n",
       "      <td>0.000007</td>\n",
       "      <td>0</td>\n",
       "      <td>0</td>\n",
       "      <td>55</td>\n",
       "      <td>155</td>\n",
       "    </tr>\n",
       "    <tr>\n",
       "      <th>42</th>\n",
       "      <td>0.000006</td>\n",
       "      <td>0</td>\n",
       "      <td>0</td>\n",
       "      <td>65</td>\n",
       "      <td>165</td>\n",
       "    </tr>\n",
       "    <tr>\n",
       "      <th>43</th>\n",
       "      <td>0.000008</td>\n",
       "      <td>0</td>\n",
       "      <td>0</td>\n",
       "      <td>68</td>\n",
       "      <td>168</td>\n",
       "    </tr>\n",
       "    <tr>\n",
       "      <th>44</th>\n",
       "      <td>0.000009</td>\n",
       "      <td>0</td>\n",
       "      <td>0</td>\n",
       "      <td>70</td>\n",
       "      <td>170</td>\n",
       "    </tr>\n",
       "    <tr>\n",
       "      <th>45</th>\n",
       "      <td>0.000008</td>\n",
       "      <td>0</td>\n",
       "      <td>0</td>\n",
       "      <td>79</td>\n",
       "      <td>179</td>\n",
       "    </tr>\n",
       "    <tr>\n",
       "      <th>46</th>\n",
       "      <td>0.000009</td>\n",
       "      <td>0</td>\n",
       "      <td>0</td>\n",
       "      <td>82</td>\n",
       "      <td>182</td>\n",
       "    </tr>\n",
       "    <tr>\n",
       "      <th>47</th>\n",
       "      <td>0.000010</td>\n",
       "      <td>0</td>\n",
       "      <td>0</td>\n",
       "      <td>84</td>\n",
       "      <td>184</td>\n",
       "    </tr>\n",
       "    <tr>\n",
       "      <th>48</th>\n",
       "      <td>0.000009</td>\n",
       "      <td>0</td>\n",
       "      <td>0</td>\n",
       "      <td>91</td>\n",
       "      <td>191</td>\n",
       "    </tr>\n",
       "    <tr>\n",
       "      <th>49</th>\n",
       "      <td>0.000009</td>\n",
       "      <td>0</td>\n",
       "      <td>0</td>\n",
       "      <td>98</td>\n",
       "      <td>198</td>\n",
       "    </tr>\n",
       "  </tbody>\n",
       "</table>"
      ],
      "text/plain": [
       "<myria.query.MyriaQuery at 0x114068650>"
      ]
     },
     "execution_count": 70,
     "metadata": {},
     "output_type": "execute_result"
    }
   ],
   "source": [
    "%%query\n",
    "const partition: 0.5;\n",
    "const epsilon: 0.0000106;\n",
    "\n",
    "def mod(x, n): x - int(x/n)*n;\n",
    "def cell(v): int((v - mod(v, partition)) * (1/partition));\n",
    "def is_ghost(xoffset, yoffset, zoffset):\n",
    "  case when xoffset = 0 and\n",
    "            yoffset = 0 and\n",
    "            zoffset = 0 then 0 else 1 end;\n",
    "def is_replicated(x, y, z, xoffset, yoffset, zoffset):\n",
    "  is_ghost(xoffset, yoffset, zoffset) = 0 or\n",
    "  cell(x + epsilon*xoffset) != cell(x) or\n",
    "  cell(y + epsilon*yoffset) != cell(y) or\n",
    "  cell(z + epsilon*zoffset) != cell(z);\n",
    "def distance(x1, x2, y1, y2, z1, z2): sqrt((x1-x2)*(x1-x2) +\n",
    "                                           (y1-y2)*(y1-y2) +\n",
    "                                           (z1-z2)*(z1-z2));\n",
    "\n",
    "points = load(\"https://s3-us-west-2.amazonaws.com/uwdb/sampleData/sampleCrossmatch/points.txt\",\n",
    "              csv(schema(id:int,\n",
    "                         x:float,\n",
    "                         y:float,\n",
    "                         z:float), skip=0));\n",
    "permutations = load(\"https://s3-us-west-2.amazonaws.com/myria/permutations\",\n",
    "                    csv(schema(xoffset:int,\n",
    "                               yoffset:int,\n",
    "                               zoffset:int), skip=0));\n",
    "\n",
    "-- Partition into a grid with edges of size partition\n",
    "-- Replicate any point that falls within epsilon of a partition boundary\n",
    "\n",
    "partitions = [from points, permutations\n",
    "              where is_replicated(x, y, z, xoffset, yoffset, zoffset)\n",
    "              emit id, x, y, z,\n",
    "                   cell(x) + xoffset as px,\n",
    "                   cell(y) + yoffset as py,\n",
    "                   cell(z) + zoffset as pz,\n",
    "                   is_ghost(xoffset, yoffset, zoffset) as ghost];\n",
    "\n",
    "--store(partitions, partitions, [px, py, pz]);\n",
    "\n",
    "-------------------------------------------\n",
    "\n",
    "--partitions = scan(partitions);\n",
    "\n",
    "-- Cross product on partition + ghost cells; no shuffle required\n",
    "local = [from partitions left,\n",
    "              partitions right\n",
    "         where left.px = right.px and\n",
    "               left.py = right.py and\n",
    "               left.pz = right.pz\n",
    "         emit *];\n",
    "\n",
    "-- Calculate distances within each local pair and filter outliers\n",
    "distances = [from local\n",
    "             where id < id1 and\n",
    "                   ghost = 0 and\n",
    "                   distance(x, x1, y, y1, z, z1) <= epsilon\n",
    "             emit id as id1,\n",
    "                  id1 as id2, ghost, ghost1,\n",
    "                  distance(x, x1, y, y1, z, z1)];\n",
    "\n",
    "store(distances, distances);\n"
   ]
  },
  {
   "cell_type": "code",
   "execution_count": 71,
   "metadata": {
    "collapsed": false,
    "slideshow": {
     "slide_type": "fragment"
    }
   },
   "outputs": [
    {
     "data": {
      "text/html": [
       "<table border=\"1\" class=\"dataframe\">\n",
       "  <thead>\n",
       "    <tr style=\"text-align: right;\">\n",
       "      <th></th>\n",
       "      <th>cnt</th>\n",
       "      <th>id</th>\n",
       "    </tr>\n",
       "  </thead>\n",
       "  <tbody>\n",
       "    <tr>\n",
       "      <th>0</th>\n",
       "      <td>3</td>\n",
       "      <td>498</td>\n",
       "    </tr>\n",
       "    <tr>\n",
       "      <th>1</th>\n",
       "      <td>378</td>\n",
       "      <td>12</td>\n",
       "    </tr>\n",
       "    <tr>\n",
       "      <th>2</th>\n",
       "      <td>2</td>\n",
       "      <td>443</td>\n",
       "    </tr>\n",
       "    <tr>\n",
       "      <th>3</th>\n",
       "      <td>1</td>\n",
       "      <td>724</td>\n",
       "    </tr>\n",
       "    <tr>\n",
       "      <th>4</th>\n",
       "      <td>1</td>\n",
       "      <td>877</td>\n",
       "    </tr>\n",
       "    <tr>\n",
       "      <th>5</th>\n",
       "      <td>1</td>\n",
       "      <td>975</td>\n",
       "    </tr>\n",
       "    <tr>\n",
       "      <th>6</th>\n",
       "      <td>1</td>\n",
       "      <td>419</td>\n",
       "    </tr>\n",
       "    <tr>\n",
       "      <th>7</th>\n",
       "      <td>3</td>\n",
       "      <td>395</td>\n",
       "    </tr>\n",
       "    <tr>\n",
       "      <th>8</th>\n",
       "      <td>5</td>\n",
       "      <td>510</td>\n",
       "    </tr>\n",
       "    <tr>\n",
       "      <th>9</th>\n",
       "      <td>1</td>\n",
       "      <td>220</td>\n",
       "    </tr>\n",
       "    <tr>\n",
       "      <th>10</th>\n",
       "      <td>7</td>\n",
       "      <td>144</td>\n",
       "    </tr>\n",
       "    <tr>\n",
       "      <th>11</th>\n",
       "      <td>3</td>\n",
       "      <td>728</td>\n",
       "    </tr>\n",
       "    <tr>\n",
       "      <th>12</th>\n",
       "      <td>1</td>\n",
       "      <td>753</td>\n",
       "    </tr>\n",
       "    <tr>\n",
       "      <th>13</th>\n",
       "      <td>2</td>\n",
       "      <td>719</td>\n",
       "    </tr>\n",
       "    <tr>\n",
       "      <th>14</th>\n",
       "      <td>1</td>\n",
       "      <td>325</td>\n",
       "    </tr>\n",
       "    <tr>\n",
       "      <th>15</th>\n",
       "      <td>2</td>\n",
       "      <td>537</td>\n",
       "    </tr>\n",
       "    <tr>\n",
       "      <th>16</th>\n",
       "      <td>1</td>\n",
       "      <td>507</td>\n",
       "    </tr>\n",
       "  </tbody>\n",
       "</table>"
      ],
      "text/plain": [
       "<myria.query.MyriaQuery at 0x114177510>"
      ]
     },
     "execution_count": 71,
     "metadata": {},
     "output_type": "execute_result"
    }
   ],
   "source": [
    "%%query\n",
    "E = scan(TwitterK);\n",
    "V = select distinct E.$0 from E;\n",
    "CC = [from V emit V.$0 as node_id, V.$0 as component_id];\n",
    "do\n",
    "  new_CC = [from E, CC where E.$0 = CC.$0 emit E.$1, CC.$1] + CC;\n",
    "  new_CC = [from new_CC emit new_CC.$0, MIN(new_CC.$1)];\n",
    "  delta = diff(CC, new_CC);\n",
    "  CC = new_CC;\n",
    "while [from delta emit count(*) > 0];\n",
    "comp = [from CC emit CC.$1 as id, count(CC.$0) as cnt];\n",
    "store(comp, TwitterCC);\n"
   ]
  },
  {
   "cell_type": "code",
   "execution_count": 72,
   "metadata": {
    "collapsed": false,
    "scrolled": true,
    "slideshow": {
     "slide_type": "fragment"
    }
   },
   "outputs": [],
   "source": [
    "# Grab the results of the most recent execution\n",
    "query = _"
   ]
  },
  {
   "cell_type": "code",
   "execution_count": 73,
   "metadata": {
    "collapsed": false,
    "slideshow": {
     "slide_type": "fragment"
    }
   },
   "outputs": [
    {
     "data": {
      "text/html": [
       "<table border=\"1\" class=\"dataframe\">\n",
       "  <thead>\n",
       "    <tr style=\"text-align: right;\">\n",
       "      <th></th>\n",
       "      <th>cnt</th>\n",
       "      <th>id</th>\n",
       "    </tr>\n",
       "  </thead>\n",
       "  <tbody>\n",
       "    <tr>\n",
       "      <th>0</th>\n",
       "      <td>3</td>\n",
       "      <td>498</td>\n",
       "    </tr>\n",
       "    <tr>\n",
       "      <th>1</th>\n",
       "      <td>378</td>\n",
       "      <td>12</td>\n",
       "    </tr>\n",
       "    <tr>\n",
       "      <th>2</th>\n",
       "      <td>2</td>\n",
       "      <td>443</td>\n",
       "    </tr>\n",
       "    <tr>\n",
       "      <th>3</th>\n",
       "      <td>1</td>\n",
       "      <td>724</td>\n",
       "    </tr>\n",
       "    <tr>\n",
       "      <th>4</th>\n",
       "      <td>1</td>\n",
       "      <td>877</td>\n",
       "    </tr>\n",
       "    <tr>\n",
       "      <th>5</th>\n",
       "      <td>1</td>\n",
       "      <td>975</td>\n",
       "    </tr>\n",
       "    <tr>\n",
       "      <th>6</th>\n",
       "      <td>1</td>\n",
       "      <td>419</td>\n",
       "    </tr>\n",
       "    <tr>\n",
       "      <th>7</th>\n",
       "      <td>3</td>\n",
       "      <td>395</td>\n",
       "    </tr>\n",
       "    <tr>\n",
       "      <th>8</th>\n",
       "      <td>5</td>\n",
       "      <td>510</td>\n",
       "    </tr>\n",
       "    <tr>\n",
       "      <th>9</th>\n",
       "      <td>1</td>\n",
       "      <td>220</td>\n",
       "    </tr>\n",
       "    <tr>\n",
       "      <th>10</th>\n",
       "      <td>7</td>\n",
       "      <td>144</td>\n",
       "    </tr>\n",
       "    <tr>\n",
       "      <th>11</th>\n",
       "      <td>3</td>\n",
       "      <td>728</td>\n",
       "    </tr>\n",
       "    <tr>\n",
       "      <th>12</th>\n",
       "      <td>1</td>\n",
       "      <td>753</td>\n",
       "    </tr>\n",
       "    <tr>\n",
       "      <th>13</th>\n",
       "      <td>2</td>\n",
       "      <td>719</td>\n",
       "    </tr>\n",
       "    <tr>\n",
       "      <th>14</th>\n",
       "      <td>1</td>\n",
       "      <td>325</td>\n",
       "    </tr>\n",
       "    <tr>\n",
       "      <th>15</th>\n",
       "      <td>2</td>\n",
       "      <td>537</td>\n",
       "    </tr>\n",
       "    <tr>\n",
       "      <th>16</th>\n",
       "      <td>1</td>\n",
       "      <td>507</td>\n",
       "    </tr>\n",
       "  </tbody>\n",
       "</table>"
      ],
      "text/plain": [
       "<myria.query.MyriaQuery at 0x114177510>"
      ]
     },
     "execution_count": 73,
     "metadata": {},
     "output_type": "execute_result"
    }
   ],
   "source": [
    "query"
   ]
  },
  {
   "cell_type": "markdown",
   "metadata": {
    "slideshow": {
     "slide_type": "slide"
    }
   },
   "source": [
    "## 6. Plans and Delayed Execution"
   ]
  },
  {
   "cell_type": "markdown",
   "metadata": {
    "slideshow": {
     "slide_type": "slide"
    }
   },
   "source": [
    "You can use `%plan` magic to compile a plan without immediately executing it:"
   ]
  },
  {
   "cell_type": "code",
   "execution_count": 74,
   "metadata": {
    "collapsed": false,
    "slideshow": {
     "slide_type": "fragment"
    }
   },
   "outputs": [
    {
     "data": {
      "text/plain": [
       "{u'language': u'MyriaL',\n",
       " u'logicalRa': u'Store(public:adhoc:JustX)[Apply(a=$0)[Select(($0 >= 999))[Scan(public:adhoc:TwitterK)]]]',\n",
       " u'plan': {u'fragments': [{u'operators': [{u'opId': 0,\n",
       "      u'opName': u'MyriaScan(public:adhoc:TwitterK)',\n",
       "      u'opType': u'TableScan',\n",
       "      u'relationKey': {u'programName': u'adhoc',\n",
       "       u'relationName': u'TwitterK',\n",
       "       u'userName': u'public'}},\n",
       "     {u'argChild': 0,\n",
       "      u'argPredicate': {u'rootExpressionOperator': {u'left': {u'columnIdx': 0,\n",
       "         u'type': u'VARIABLE'},\n",
       "        u'right': {u'type': u'CONSTANT',\n",
       "         u'value': u'999',\n",
       "         u'valueType': u'LONG_TYPE'},\n",
       "        u'type': u'GTEQ'}},\n",
       "      u'opId': 1,\n",
       "      u'opName': u'MyriaSelect(($0 >= 999))',\n",
       "      u'opType': u'Filter'},\n",
       "     {u'argChild': 1,\n",
       "      u'emitExpressions': [{u'outputName': u'a',\n",
       "        u'rootExpressionOperator': {u'columnIdx': 0, u'type': u'VARIABLE'}}],\n",
       "      u'opId': 2,\n",
       "      u'opName': u'MyriaApply(a=$0)',\n",
       "      u'opType': u'Apply'},\n",
       "     {u'argChild': 2,\n",
       "      u'argOverwriteTable': True,\n",
       "      u'opId': 3,\n",
       "      u'opName': u'MyriaStore(public:adhoc:JustX)',\n",
       "      u'opType': u'DbInsert',\n",
       "      u'partitionFunction': None,\n",
       "      u'relationKey': {u'programName': u'adhoc',\n",
       "       u'relationName': u'JustX',\n",
       "       u'userName': u'public'}}]}],\n",
       "  u'type': u'SubQuery'},\n",
       " u'profilingMode': [],\n",
       " u'rawQuery': u'\\nT1 = scan(TwitterK);\\nT2 = [from T1 where $0 >= 999 emit $0];\\nstore(T2, JustX);'}"
      ]
     },
     "execution_count": 74,
     "metadata": {},
     "output_type": "execute_result"
    }
   ],
   "source": [
    "%%plan \n",
    "T1 = scan(TwitterK);\n",
    "T2 = [from T1 where $0 >= 999 emit $0];\n",
    "store(T2, JustX);"
   ]
  },
  {
   "cell_type": "code",
   "execution_count": 75,
   "metadata": {
    "collapsed": false,
    "slideshow": {
     "slide_type": "fragment"
    }
   },
   "outputs": [
    {
     "data": {
      "text/html": [
       "<div>\n",
       "<table border=\"1\" class=\"dataframe\">\n",
       "  <thead>\n",
       "    <tr style=\"text-align: right;\">\n",
       "      <th></th>\n",
       "      <th>a</th>\n",
       "    </tr>\n",
       "  </thead>\n",
       "  <tbody>\n",
       "    <tr>\n",
       "      <th>0</th>\n",
       "      <td>999</td>\n",
       "    </tr>\n",
       "  </tbody>\n",
       "</table>\n",
       "</div>"
      ],
      "text/plain": [
       "     a\n",
       "0  999"
      ]
     },
     "execution_count": 75,
     "metadata": {},
     "output_type": "execute_result"
    }
   ],
   "source": [
    "plan = _\n",
    "result = MyriaQuery.submit_plan(plan).to_dataframe()\n",
    "result"
   ]
  },
  {
   "cell_type": "markdown",
   "metadata": {
    "slideshow": {
     "slide_type": "slide"
    }
   },
   "source": [
    "# Myria in your own EC2 Cluster!"
   ]
  },
  {
   "cell_type": "markdown",
   "metadata": {
    "slideshow": {
     "slide_type": "slide"
    }
   },
   "source": [
    "# Where to find more information:"
   ]
  },
  {
   "cell_type": "markdown",
   "metadata": {
    "slideshow": {
     "slide_type": "fragment"
    }
   },
   "source": [
    "#### Documentation\n",
    "[Myria Website](http://myria.cs.washington.edu/)<br /> \n",
    "[Myria Python](http://myria.cs.washington.edu/docs/myriapython.html)<br /> \n",
    "[Additional Language Documentation](http://myria.cs.washington.edu/docs/myriaql.html)<br /> \n",
    "[This Notebook](https://github.com/uwescience/myria-python/blob/master/ipnb%20examples/myria%20examples.ipynb) \n",
    "\n",
    "#### Repositories\n",
    "[Myria](github.com/uwescience/myria)<br /> \n",
    "[Myria-Python](github.com/uwescience/myria-python)<br /> \n",
    "[Myria-EC2](github.com/uwescience/myria-ec2)\n",
    "\n",
    "#### Mailing List\n",
    "[myria-users@cs.washington.edu](mailto:myria-users@cs.washington.edu)"
   ]
  },
  {
   "cell_type": "markdown",
   "metadata": {
    "slideshow": {
     "slide_type": "subslide"
    }
   },
   "source": [
    "## IPython\n",
    "[Homepage](http://ipython.org/)\n",
    "\n",
    "## Pandas/Dataframes\n",
    "[Homepage](http://pandas.pydata.org/)"
   ]
  }
 ],
 "metadata": {
  "celltoolbar": "Slideshow",
  "kernelspec": {
   "display_name": "Python 2",
   "language": "python",
   "name": "python2"
  },
  "language_info": {
   "codemirror_mode": {
    "name": "ipython",
    "version": 2
   },
   "file_extension": ".py",
   "mimetype": "text/x-python",
   "name": "python",
   "nbconvert_exporter": "python",
   "pygments_lexer": "ipython2",
   "version": "2.7.10"
  }
 },
 "nbformat": 4,
 "nbformat_minor": 0
}
